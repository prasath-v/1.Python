{
 "cells": [
  {
   "cell_type": "code",
   "execution_count": 1,
   "id": "8f7c52bd-9eaa-4990-8233-3487e3f2fca3",
   "metadata": {},
   "outputs": [
    {
     "name": "stdout",
     "output_type": "stream",
     "text": [
      "Welcome to Assignment-1\n"
     ]
    }
   ],
   "source": [
    "print('Welcome to Assignment-1')"
   ]
  },
  {
   "cell_type": "code",
   "execution_count": 5,
   "id": "92a17317-5264-43dc-8912-54f45f44aaa2",
   "metadata": {},
   "outputs": [
    {
     "name": "stdout",
     "output_type": "stream",
     "text": [
      "Num1=  10\n",
      "Num2=  30\n",
      "Add=  40\n"
     ]
    }
   ],
   "source": [
    "#Method 1\n",
    "num1 = 10\n",
    "print('Num1= ', num1)\n",
    "num2 = 30\n",
    "print('Num2= ', num2)\n",
    "add = num1 + num2\n",
    "print('Add= ', add)"
   ]
  },
  {
   "cell_type": "code",
   "execution_count": 4,
   "id": "4c93b9a7-cde1-47ff-be22-fcd0fc7dc187",
   "metadata": {},
   "outputs": [
    {
     "name": "stdout",
     "output_type": "stream",
     "text": [
      "Num1=  10\n",
      "Num2=  30\n",
      "Add=  40\n"
     ]
    }
   ],
   "source": [
    "#Method 2\n",
    "num1 = 10\n",
    "print('Num1= ', num1)\n",
    "num2 = 30\n",
    "print('Num2= ', num2) \n",
    "print('Add= ', num1 + num2)"
   ]
  },
  {
   "cell_type": "code",
   "execution_count": null,
   "id": "b4501e80-108b-4fab-af13-4d3733f6b561",
   "metadata": {},
   "outputs": [],
   "source": [
    "#Body Mass Index\n",
    "# | Category        | BMI Range      |\n",
    "# | --------------- | -------------- |\n",
    "# | Underweight     | Less than 18.5 |\n",
    "# | Normal weight   | 18.5 – 24.9    |\n",
    "# | Overweight      | 25 – 29.9      |\n",
    "# | Obese (Class 1) | 30 – 34.9      |\n",
    "# | Obese (Class 2) | 35 – 39.9      |\n",
    "# | Extreme Obesity | 40 and above   |\n"
   ]
  },
  {
   "cell_type": "code",
   "execution_count": 8,
   "id": "e351d1cf-a984-47f3-a0e4-213797f190f1",
   "metadata": {},
   "outputs": [
    {
     "name": "stdin",
     "output_type": "stream",
     "text": [
      "Enter your BMI Index: 22\n"
     ]
    },
    {
     "name": "stdout",
     "output_type": "stream",
     "text": [
      "You're Normal weight Person\n"
     ]
    }
   ],
   "source": [
    "bmi = int(input('Enter your BMI Index:'))\n",
    "if(bmi < 18.5):\n",
    "    print(\"You're Under weight Person\")\n",
    "elif(bmi < 24.9):\n",
    "    print(\"You're Normal weight Person\")\n",
    "elif(bmi < 29.9):\n",
    "    print(\"You're Over weight Person\")\n",
    "elif(bmi < 34.9):\n",
    "    print(\"You're Obese (Class 1) Person\")\n",
    "elif(bmi < 39.9):\n",
    "    print(\"You're Obese (Class 2) Person\")\n",
    "else:\n",
    "    print(\"You're Extreme Obesity Person\")"
   ]
  },
  {
   "cell_type": "code",
   "execution_count": 11,
   "id": "5f14d7e0-d19d-453a-8903-bdb1542fb5a2",
   "metadata": {},
   "outputs": [],
   "source": [
    "# In above code when i try with float numbers then its shows error. \n",
    "# So that i resolved that issue using CHatGPT \n",
    "# Now i use float instead of int for decimal & whole numbers"
   ]
  },
  {
   "cell_type": "code",
   "execution_count": 13,
   "id": "fbe3e50a-931d-403d-81a2-f9368d50ecc5",
   "metadata": {},
   "outputs": [
    {
     "name": "stdin",
     "output_type": "stream",
     "text": [
      "Enter your BMI Index: 29.9\n"
     ]
    },
    {
     "name": "stdout",
     "output_type": "stream",
     "text": [
      "You're Obese (Class 1) Person\n"
     ]
    }
   ],
   "source": [
    "bmi = float(input('Enter your BMI Index:'))\n",
    "if(bmi < 18.5):\n",
    "    print(\"You're Under weight Person\")\n",
    "elif(bmi < 24.9):\n",
    "    print(\"You're Normal weight Person\")\n",
    "elif(bmi < 29.9):\n",
    "    print(\"You're Over weight Person\")\n",
    "elif(bmi < 34.9):\n",
    "    print(\"You're Obese (Class 1) Person\")\n",
    "elif(bmi < 39.9):\n",
    "    print(\"You're Obese (Class 2) Person\")\n",
    "else:\n",
    "    print(\"You're Extreme Obesity Person\")"
   ]
  },
  {
   "cell_type": "code",
   "execution_count": null,
   "id": "62c53a50-2c6d-4d42-aae9-92b688818c65",
   "metadata": {},
   "outputs": [],
   "source": []
  }
 ],
 "metadata": {
  "kernelspec": {
   "display_name": "Python [conda env:base] *",
   "language": "python",
   "name": "conda-base-py"
  },
  "language_info": {
   "codemirror_mode": {
    "name": "ipython",
    "version": 3
   },
   "file_extension": ".py",
   "mimetype": "text/x-python",
   "name": "python",
   "nbconvert_exporter": "python",
   "pygments_lexer": "ipython3",
   "version": "3.13.5"
  }
 },
 "nbformat": 4,
 "nbformat_minor": 5
}

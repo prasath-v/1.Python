{
 "cells": [
  {
   "cell_type": "code",
   "execution_count": 8,
   "id": "203af826-ecc8-431d-b75f-3b69bae5c5e2",
   "metadata": {},
   "outputs": [
    {
     "name": "stdout",
     "output_type": "stream",
     "text": [
      "1 2 3 4 5\n"
     ]
    }
   ],
   "source": [
    "'''\n",
    "1.Write a Python program that prints numbers from 1 to 5.\n",
    "Expected Output:\n",
    "1 2 3 4 5\n",
    "'''\n",
    "print(*range(1, 6))"
   ]
  },
  {
   "cell_type": "code",
   "execution_count": 19,
   "id": "8c6ce27d-1224-42de-8210-38a21052d3cc",
   "metadata": {},
   "outputs": [
    {
     "name": "stdout",
     "output_type": "stream",
     "text": [
      "2 4 6 8 10\n"
     ]
    }
   ],
   "source": [
    "'''\n",
    "2.Write a Python program to print the first 5 even numbers. \n",
    "Expected Output:\n",
    "2 4 6 8 10\n",
    "'''\n",
    "# method 1\n",
    "print(*range(2, 12, 2))"
   ]
  },
  {
   "cell_type": "code",
   "execution_count": 20,
   "id": "712e5382-c2da-4c54-b713-315ff33ab37a",
   "metadata": {},
   "outputs": [
    {
     "name": "stdout",
     "output_type": "stream",
     "text": [
      "55\n"
     ]
    }
   ],
   "source": [
    "'''\n",
    "3.Write a Python program to print the sum of numbers from 1 to 10. \n",
    "Expected Output:55\n",
    "'''\n",
    "sum = 0\n",
    "for i in range(1, 11):\n",
    "    sum += i\n",
    "\n",
    "print(sum)"
   ]
  },
  {
   "cell_type": "code",
   "execution_count": 27,
   "id": "6be025c8-b1e6-4e19-8589-8812a57e636c",
   "metadata": {},
   "outputs": [
    {
     "name": "stdin",
     "output_type": "stream",
     "text": [
      "Enter the factorial number: 6\n"
     ]
    },
    {
     "name": "stdout",
     "output_type": "stream",
     "text": [
      "720\n"
     ]
    }
   ],
   "source": [
    "'''\n",
    "4.Write a Python function to find the factorial of 5. Expected Output:\n",
    "120\n",
    "'''\n",
    "def factorial(n):\n",
    "    init = 1\n",
    "    for i in range(1, (n+1)):\n",
    "        init *= i\n",
    "\n",
    "    return init\n",
    "        \n",
    "limit=int(input('Enter the factorial number:'))\n",
    "getFactorial = factorial(limit)\n",
    "print(getFactorial)"
   ]
  },
  {
   "cell_type": "code",
   "execution_count": 31,
   "id": "ade9928c-26fe-4262-b48a-fd4048973c0f",
   "metadata": {},
   "outputs": [
    {
     "name": "stdout",
     "output_type": "stream",
     "text": [
      "5040\n"
     ]
    }
   ],
   "source": [
    "import math\n",
    "print(math.factorial(7))"
   ]
  },
  {
   "cell_type": "code",
   "execution_count": 37,
   "id": "4df73cf8-e610-4e85-b4cc-83be19cd2452",
   "metadata": {},
   "outputs": [
    {
     "name": "stdin",
     "output_type": "stream",
     "text": [
      "Enter the number: 6\n"
     ]
    },
    {
     "name": "stdout",
     "output_type": "stream",
     "text": [
      "6 is not a Prime Number\n"
     ]
    }
   ],
   "source": [
    "'''\n",
    "5.Write a Python program to check if a number is prime. Expected Output (for input 7):\n",
    "7 is a prime number\n",
    "'''\n",
    "def isPrime(num):\n",
    "    if num <= 1:\n",
    "        return False\n",
    "    for i in range(2, int(num**0.5) + 1):\n",
    "        if num % i == 0:\n",
    "            return False\n",
    "    return True\n",
    "\n",
    "number = int(input('Enter the number:'))\n",
    "if isPrime(number):\n",
    "    print(f\"{number} is a Prime Number\")\n",
    "else:\n",
    "    print(f\"{number} is not a Prime Number\")"
   ]
  },
  {
   "cell_type": "code",
   "execution_count": null,
   "id": "83a79520-0c73-4409-8a1c-7a6f9b0acdea",
   "metadata": {},
   "outputs": [],
   "source": []
  }
 ],
 "metadata": {
  "kernelspec": {
   "display_name": "Python [conda env:base] *",
   "language": "python",
   "name": "conda-base-py"
  },
  "language_info": {
   "codemirror_mode": {
    "name": "ipython",
    "version": 3
   },
   "file_extension": ".py",
   "mimetype": "text/x-python",
   "name": "python",
   "nbconvert_exporter": "python",
   "pygments_lexer": "ipython3",
   "version": "3.13.5"
  }
 },
 "nbformat": 4,
 "nbformat_minor": 5
}

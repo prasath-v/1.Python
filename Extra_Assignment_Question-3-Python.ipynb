{
 "cells": [
  {
   "cell_type": "code",
   "execution_count": 4,
   "id": "526a73bc-dabf-4bc3-b2b7-59c8c3563f70",
   "metadata": {},
   "outputs": [
    {
     "name": "stdin",
     "output_type": "stream",
     "text": [
      "Enter the Value: 10\n"
     ]
    },
    {
     "name": "stdout",
     "output_type": "stream",
     "text": [
      "Value: 10\n",
      "Correct\n"
     ]
    }
   ],
   "source": [
    "# print 'CORRECT' if i == 10\n",
    "value = int(input('Enter the Value:'))\n",
    "print(f\"Value: {value}\")\n",
    "if value == 10:\n",
    "    print('Correct')"
   ]
  },
  {
   "cell_type": "code",
   "execution_count": 7,
   "id": "be1951cd-5cd1-48bc-9769-4c3c98652309",
   "metadata": {},
   "outputs": [
    {
     "name": "stdin",
     "output_type": "stream",
     "text": [
      "Enter the password: HOPE@123\n"
     ]
    },
    {
     "name": "stdout",
     "output_type": "stream",
     "text": [
      "Your Password is Correct\n"
     ]
    }
   ],
   "source": [
    "# Check the password, using if and else\n",
    "password = input('Enter the password:')\n",
    "if password == 'HOPE@123' :\n",
    "    print('Your Password is Correct')\n",
    "else:\n",
    "    print('Your Password is Wrong')"
   ]
  },
  {
   "cell_type": "code",
   "execution_count": 11,
   "id": "ca1a5354-0406-41ae-893b-03cfcd5941fd",
   "metadata": {},
   "outputs": [
    {
     "name": "stdin",
     "output_type": "stream",
     "text": [
      "Enter your Age: 66\n"
     ]
    },
    {
     "name": "stdout",
     "output_type": "stream",
     "text": [
      "Age: 66\n",
      "You're Senior Citizen\n"
     ]
    }
   ],
   "source": [
    "# Catagory the people by their age like children, adult, citizen, senior citizen\n",
    "age = int(input('Enter your Age:'))\n",
    "print(f\"Age: {age}\")\n",
    "if(age < 18):\n",
    "    print(f\"You're Children\")\n",
    "elif(age < 39):\n",
    "    print(f\"You're Adult\")\n",
    "elif(age < 59):\n",
    "    print(f\"You're Citizen\")\n",
    "else:\n",
    "    print(f\"You're Senior Citizen\")"
   ]
  },
  {
   "cell_type": "code",
   "execution_count": 16,
   "id": "810f3c78-0ae7-49b3-abbe-797a13d1180d",
   "metadata": {},
   "outputs": [
    {
     "name": "stdin",
     "output_type": "stream",
     "text": [
      "Enter any Number: -998765\n"
     ]
    },
    {
     "name": "stdout",
     "output_type": "stream",
     "text": [
      "Given number is Negative\n"
     ]
    }
   ],
   "source": [
    "# Find whether given number is positive or negative\n",
    "num = int(input('Enter any Number:'))\n",
    "if(num < 0):\n",
    "    print('Given number is Negative')\n",
    "elif(num > 0):\n",
    "    print('Given number is Positive')\n",
    "else:\n",
    "    print('Given number is Zero')"
   ]
  },
  {
   "cell_type": "code",
   "execution_count": 18,
   "id": "cd03d6d8-9aa6-489d-b85e-92261025befe",
   "metadata": {},
   "outputs": [
    {
     "name": "stdin",
     "output_type": "stream",
     "text": [
      "Enter a number to check: 30\n"
     ]
    },
    {
     "name": "stdout",
     "output_type": "stream",
     "text": [
      "Yes!, Given number is divisible by 5\n"
     ]
    }
   ],
   "source": [
    "# Check whether the given number is divisible by 5\n",
    "num = int(input('Enter a number to check:'))\n",
    "if (num % 5) == 0 :\n",
    "    print('Yes!, Given number is divisible by 5')\n",
    "else:\n",
    "    print('No!, Given number is not divisible by 5')"
   ]
  },
  {
   "cell_type": "code",
   "execution_count": null,
   "id": "f2a2df13-53bc-49c8-9bc4-5710f9afe70b",
   "metadata": {},
   "outputs": [],
   "source": []
  }
 ],
 "metadata": {
  "kernelspec": {
   "display_name": "Python [conda env:base] *",
   "language": "python",
   "name": "conda-base-py"
  },
  "language_info": {
   "codemirror_mode": {
    "name": "ipython",
    "version": 3
   },
   "file_extension": ".py",
   "mimetype": "text/x-python",
   "name": "python",
   "nbconvert_exporter": "python",
   "pygments_lexer": "ipython3",
   "version": "3.13.5"
  }
 },
 "nbformat": 4,
 "nbformat_minor": 5
}

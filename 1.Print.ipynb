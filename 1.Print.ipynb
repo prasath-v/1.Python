{
 "cells": [
  {
   "cell_type": "code",
   "execution_count": 5,
   "id": "ca7b00ec-f246-4a4a-a98f-f4837d445322",
   "metadata": {},
   "outputs": [
    {
     "name": "stdout",
     "output_type": "stream",
     "text": [
      "welcome to HopeAI Journey\n"
     ]
    }
   ],
   "source": [
    "print('welcome to HopeAI Journey')"
   ]
  },
  {
   "cell_type": "code",
   "execution_count": 2,
   "id": "9b18caef-bf5a-47b4-8996-d8096bb3cdd9",
   "metadata": {},
   "outputs": [
    {
     "name": "stdout",
     "output_type": "stream",
     "text": [
      "Welcome Prasath\n"
     ]
    }
   ],
   "source": [
    "print(\"Welcome Prasath\");"
   ]
  },
  {
   "cell_type": "code",
   "execution_count": 8,
   "id": "f9abe2b7-25ae-4002-bf73-5adb8a670851",
   "metadata": {},
   "outputs": [
    {
     "name": "stdout",
     "output_type": "stream",
     "text": [
      "Print is case sensitive. So always write lower case like \"print\"\n"
     ]
    }
   ],
   "source": [
    "print('Print is case sensitive. So always write lower case like \"print\"');"
   ]
  },
  {
   "cell_type": "code",
   "execution_count": null,
   "id": "0298fc00-a33e-4c11-ad6a-a86de5a73060",
   "metadata": {},
   "outputs": [],
   "source": []
  }
 ],
 "metadata": {
  "kernelspec": {
   "display_name": "Python [conda env:base] *",
   "language": "python",
   "name": "conda-base-py"
  },
  "language_info": {
   "codemirror_mode": {
    "name": "ipython",
    "version": 3
   },
   "file_extension": ".py",
   "mimetype": "text/x-python",
   "name": "python",
   "nbconvert_exporter": "python",
   "pygments_lexer": "ipython3",
   "version": "3.13.5"
  }
 },
 "nbformat": 4,
 "nbformat_minor": 5
}

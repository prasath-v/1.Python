{
 "cells": [
  {
   "cell_type": "code",
   "execution_count": 5,
   "id": "2ebc41b6-fef6-4566-a065-869d35f9aa7e",
   "metadata": {},
   "outputs": [
    {
     "name": "stdout",
     "output_type": "stream",
     "text": [
      "This person is Adult\n"
     ]
    }
   ],
   "source": [
    "#if statement\n",
    "num = 18;\n",
    "if(num == 18):\n",
    "    print('This person is Adult');"
   ]
  },
  {
   "cell_type": "code",
   "execution_count": 6,
   "id": "f6966f94-5a25-4f06-b944-7e0b36a9b48f",
   "metadata": {},
   "outputs": [
    {
     "name": "stdout",
     "output_type": "stream",
     "text": [
      "This person is Adult\n"
     ]
    }
   ],
   "source": [
    "#if statement\n",
    "num = 18;\n",
    "if num == 18 :\n",
    "    print('This person is Adult')"
   ]
  },
  {
   "cell_type": "code",
   "execution_count": 10,
   "id": "9dc4fbbf-f581-4efd-84d8-53cfb3dfff3e",
   "metadata": {},
   "outputs": [
    {
     "name": "stdin",
     "output_type": "stream",
     "text": [
      "Enter your Age:  45\n"
     ]
    },
    {
     "name": "stdout",
     "output_type": "stream",
     "text": [
      "This Person is Adult and age is 45\n"
     ]
    }
   ],
   "source": [
    "#if statement with user input\n",
    "num = int(input('Enter your Age: '))\n",
    "if(num >= 18) :\n",
    "    print('This Person is Adult and age is', num);"
   ]
  },
  {
   "cell_type": "code",
   "execution_count": 11,
   "id": "f36b7ac7-f4fa-46cb-9bd5-1feb0d8bf955",
   "metadata": {},
   "outputs": [
    {
     "name": "stdout",
     "output_type": "stream",
     "text": [
      "45\n"
     ]
    }
   ],
   "source": [
    "print(num)"
   ]
  },
  {
   "cell_type": "code",
   "execution_count": 12,
   "id": "ad926fe9-e54d-4ae0-aac7-3284aa1dc97d",
   "metadata": {},
   "outputs": [
    {
     "name": "stdout",
     "output_type": "stream",
     "text": [
      "This Person is Child and age is 12\n"
     ]
    }
   ],
   "source": [
    "#if else statement\n",
    "num = 12;\n",
    "if(num >= 18) :\n",
    "    print('This Person is Adult and age is', num)\n",
    "else:\n",
    "    print('This Person is Child and age is', num)"
   ]
  },
  {
   "cell_type": "code",
   "execution_count": 13,
   "id": "1200b325-d65e-489d-a4e9-9def5bba8938",
   "metadata": {},
   "outputs": [
    {
     "name": "stdout",
     "output_type": "stream",
     "text": [
      "This Person is Adult and age is 18\n"
     ]
    }
   ],
   "source": [
    "#if else statement\n",
    "num = 18;\n",
    "if(num >= 18) :\n",
    "    print('This Person is Adult and age is', num)\n",
    "else:\n",
    "    print('This Person is Child and age is', num)"
   ]
  },
  {
   "cell_type": "code",
   "execution_count": 14,
   "id": "d2138822-0337-42ca-a8a4-ed070ff9ee35",
   "metadata": {},
   "outputs": [
    {
     "name": "stdin",
     "output_type": "stream",
     "text": [
      "Enter your Age:  24\n"
     ]
    },
    {
     "name": "stdout",
     "output_type": "stream",
     "text": [
      "This Person is Adult and age is 24\n"
     ]
    }
   ],
   "source": [
    "#if else statement with user input\n",
    "num = int(input('Enter your Age: '))\n",
    "if(num >= 18) :\n",
    "    print('This Person is Adult and age is', num)\n",
    "else:\n",
    "    print('This Person is Child and age is', num)"
   ]
  },
  {
   "cell_type": "code",
   "execution_count": 15,
   "id": "8cbdbf95-9e92-4227-9483-f1c73c7fe27c",
   "metadata": {},
   "outputs": [
    {
     "name": "stdin",
     "output_type": "stream",
     "text": [
      "Enter your Age:  11\n"
     ]
    },
    {
     "name": "stdout",
     "output_type": "stream",
     "text": [
      "This Person is Child and age is 11\n"
     ]
    }
   ],
   "source": [
    "#if else statement with user input\n",
    "num = int(input('Enter your Age: '))\n",
    "if(num >= 18) :\n",
    "    print('This Person is Adult and age is', num)\n",
    "else:\n",
    "    print('This Person is Child and age is', num)"
   ]
  },
  {
   "cell_type": "code",
   "execution_count": 19,
   "id": "27e3af30-50e5-40da-b886-4165655866ca",
   "metadata": {},
   "outputs": [
    {
     "name": "stdout",
     "output_type": "stream",
     "text": [
      "Senior Citizen\n"
     ]
    }
   ],
   "source": [
    "#if-elif statement\n",
    "num = 88\n",
    "if(num < 18):\n",
    "    print('Children')\n",
    "elif(num < 39):\n",
    "    print('Adult')\n",
    "elif(num < 59):\n",
    "    print('Citizen')\n",
    "else:\n",
    "    print('Senior Citizen')"
   ]
  },
  {
   "cell_type": "code",
   "execution_count": 31,
   "id": "c7a19071-ca58-4c16-b6fb-0845eb78e2a9",
   "metadata": {},
   "outputs": [
    {
     "name": "stdin",
     "output_type": "stream",
     "text": [
      "Enter your Age:  60\n"
     ]
    }
   ],
   "source": [
    "age = int(input('Enter your Age: '))"
   ]
  },
  {
   "cell_type": "code",
   "execution_count": 32,
   "id": "d8b99a62-ea1d-4081-b1a0-8a2eadae93ec",
   "metadata": {},
   "outputs": [
    {
     "name": "stdout",
     "output_type": "stream",
     "text": [
      "Senior Citizen\n"
     ]
    }
   ],
   "source": [
    "#if-elif statement with User input\n",
    "if(age < 18):\n",
    "    print('Children')\n",
    "elif(age < 39):\n",
    "    print('Adult')\n",
    "elif(age < 59):\n",
    "    print('Citizen')\n",
    "else:\n",
    "    print('Senior Citizen')"
   ]
  },
  {
   "cell_type": "code",
   "execution_count": 34,
   "id": "e8f535f9-a748-42b4-a508-7c65cd9819b4",
   "metadata": {},
   "outputs": [
    {
     "name": "stdin",
     "output_type": "stream",
     "text": [
      "Enter the Number:  34\n"
     ]
    },
    {
     "name": "stdout",
     "output_type": "stream",
     "text": [
      "34 is Even Number\n"
     ]
    }
   ],
   "source": [
    "#find Odd or Even Number - Method 1\n",
    "num = int(input('Enter the Number: '))\n",
    "if((num%2) == 0):\n",
    "    print(num, 'is Even Number')\n",
    "else:\n",
    "    print(num, 'is Odd Number')"
   ]
  },
  {
   "cell_type": "code",
   "execution_count": 35,
   "id": "5889aef8-abb7-4318-96bf-a7e255cd84c2",
   "metadata": {},
   "outputs": [
    {
     "name": "stdin",
     "output_type": "stream",
     "text": [
      "Enter the Number:  23\n"
     ]
    },
    {
     "name": "stdout",
     "output_type": "stream",
     "text": [
      "23 is Odd Number\n"
     ]
    }
   ],
   "source": [
    "#find Odd or Even Number - Method 2\n",
    "num = int(input('Enter the Number: '))\n",
    "if((num%2) == 1):\n",
    "    print(num, 'is Odd Number')\n",
    "else:\n",
    "    print(num, 'is Even Number')"
   ]
  },
  {
   "cell_type": "code",
   "execution_count": 40,
   "id": "0f4e9d97-def4-4499-8619-3a34cdcea61a",
   "metadata": {},
   "outputs": [
    {
     "name": "stdout",
     "output_type": "stream",
     "text": [
      "1\n",
      "2\n",
      "3\n",
      "4\n",
      "5\n",
      "6\n",
      "7\n",
      "8\n",
      "9\n"
     ]
    }
   ],
   "source": [
    "# range method\n",
    "#sybtax: range(start, stop, step)\n",
    "for num in range(1, 10):\n",
    "    print(num)"
   ]
  },
  {
   "cell_type": "code",
   "execution_count": 42,
   "id": "7994776f-c7de-409a-87b7-390f73e27811",
   "metadata": {},
   "outputs": [
    {
     "name": "stdout",
     "output_type": "stream",
     "text": [
      "1\n",
      "4\n",
      "7\n"
     ]
    }
   ],
   "source": [
    "# range method\n",
    "#sybtax: range(start, stop, step)\n",
    "for num in range(1, 10, 3):\n",
    "    print(num)"
   ]
  },
  {
   "cell_type": "code",
   "execution_count": null,
   "id": "92d76dd7-0a06-41be-ae4c-8e0438ccb19f",
   "metadata": {},
   "outputs": [],
   "source": []
  }
 ],
 "metadata": {
  "kernelspec": {
   "display_name": "Python [conda env:base] *",
   "language": "python",
   "name": "conda-base-py"
  },
  "language_info": {
   "codemirror_mode": {
    "name": "ipython",
    "version": 3
   },
   "file_extension": ".py",
   "mimetype": "text/x-python",
   "name": "python",
   "nbconvert_exporter": "python",
   "pygments_lexer": "ipython3",
   "version": "3.13.5"
  }
 },
 "nbformat": 4,
 "nbformat_minor": 5
}

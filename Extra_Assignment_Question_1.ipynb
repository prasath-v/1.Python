{
 "cells": [
  {
   "cell_type": "code",
   "execution_count": 1,
   "id": "41d8a586-c342-4205-9f9f-dd658a3707aa",
   "metadata": {},
   "outputs": [
    {
     "name": "stdout",
     "output_type": "stream",
     "text": [
      "HOPE AI\n"
     ]
    }
   ],
   "source": [
    "print('HOPE AI')"
   ]
  },
  {
   "cell_type": "code",
   "execution_count": 3,
   "id": "c66b315a-a46a-430b-ac9c-f35846f9c2a2",
   "metadata": {},
   "outputs": [
    {
     "name": "stdin",
     "output_type": "stream",
     "text": [
      "Enter your institute name? :  Hope AI\n"
     ]
    }
   ],
   "source": [
    "name = input('Enter your institute name? : ')\n",
    "# print(name)"
   ]
  },
  {
   "cell_type": "code",
   "execution_count": 4,
   "id": "7227bed2-aedd-4b61-acf0-edf3722e2301",
   "metadata": {},
   "outputs": [
    {
     "name": "stdin",
     "output_type": "stream",
     "text": [
      "Enter your institute name? :  Hope AI\n"
     ]
    },
    {
     "name": "stdout",
     "output_type": "stream",
     "text": [
      "Hope AI\n"
     ]
    }
   ],
   "source": [
    "print(input('Enter your institute name? : '))"
   ]
  },
  {
   "cell_type": "code",
   "execution_count": 8,
   "id": "8c3c3304-6273-40ad-8785-ab40c186aa2a",
   "metadata": {},
   "outputs": [
    {
     "name": "stdin",
     "output_type": "stream",
     "text": [
      "Enter your Name: Prasath\n",
      "Enter your Age: 33\n",
      "Enter your School Name: GBHS School\n",
      "Enter your Degree: BE CSE\n"
     ]
    }
   ],
   "source": [
    "name = input('Enter your Name:')\n",
    "age = input('Enter your Age:')\n",
    "school = input('Enter your School Name:')\n",
    "degree = input('Enter your Degree:')"
   ]
  },
  {
   "cell_type": "code",
   "execution_count": 10,
   "id": "88b32f5f-8705-4dcd-9c38-135aa3a7a268",
   "metadata": {},
   "outputs": [],
   "source": [
    "a = 43\n",
    "b = 34"
   ]
  },
  {
   "cell_type": "code",
   "execution_count": 16,
   "id": "e1c73757-2b95-4ed5-a1c2-db21f50f312a",
   "metadata": {},
   "outputs": [
    {
     "name": "stdout",
     "output_type": "stream",
     "text": [
      "a= 63\n",
      "b= 97\n",
      "Add = 160\n"
     ]
    }
   ],
   "source": [
    "#Addition\n",
    "print('a=', a)\n",
    "print('b=', b)\n",
    "print('Add =', a + b)"
   ]
  },
  {
   "cell_type": "code",
   "execution_count": 17,
   "id": "456ae959-5374-4049-820e-5f136d60701c",
   "metadata": {},
   "outputs": [
    {
     "name": "stdout",
     "output_type": "stream",
     "text": [
      "a= 63\n",
      "b= 97\n",
      "Sub = -34\n"
     ]
    }
   ],
   "source": [
    "#Subtraction\n",
    "print('a=', a)\n",
    "print('b=', b)\n",
    "print('Sub =', a - b)"
   ]
  },
  {
   "cell_type": "code",
   "execution_count": 18,
   "id": "f3873a6e-27e7-4ebb-935b-5eaff6faefd8",
   "metadata": {},
   "outputs": [
    {
     "name": "stdout",
     "output_type": "stream",
     "text": [
      "a= 63\n",
      "b= 97\n",
      "Mul = 6111\n"
     ]
    }
   ],
   "source": [
    "# Multiplication\n",
    "a = 63\n",
    "b = 97\n",
    "print('a=', a)\n",
    "print('b=', b)\n",
    "print('Mul =', a * b)"
   ]
  },
  {
   "cell_type": "code",
   "execution_count": 19,
   "id": "f334c46c-f710-410f-a635-199d6418de84",
   "metadata": {},
   "outputs": [
    {
     "name": "stdout",
     "output_type": "stream",
     "text": [
      "a= 76\n",
      "b= 31\n",
      "Float Div = 2.4516129032258065\n"
     ]
    }
   ],
   "source": [
    "# Division\n",
    "a = 76\n",
    "b = 31\n",
    "print('a=', a)\n",
    "print('b=', b)\n",
    "print('Float Div =', a / b)"
   ]
  },
  {
   "cell_type": "code",
   "execution_count": 23,
   "id": "2d512688-9c4e-4b0e-8793-4e4bb3755403",
   "metadata": {},
   "outputs": [],
   "source": [
    "## Difference between / and //\n",
    "# / return full value with decimal (2.4516129032258065)\n",
    "# // returns integer part only. It cut the decimal part."
   ]
  },
  {
   "cell_type": "code",
   "execution_count": 24,
   "id": "f9ff5234-2b58-4c04-b02d-1a722b9059f6",
   "metadata": {},
   "outputs": [
    {
     "name": "stdout",
     "output_type": "stream",
     "text": [
      "a= 76\n",
      "b= 31\n",
      "Floor Div = 2\n"
     ]
    }
   ],
   "source": [
    "# Floor Division\n",
    "a = 76\n",
    "b = 31\n",
    "print('a=', a)\n",
    "print('b=', b)\n",
    "print('Floor Div =', a // b)"
   ]
  },
  {
   "cell_type": "code",
   "execution_count": 25,
   "id": "1eac5a1d-3383-4237-8059-d0137ae27a25",
   "metadata": {},
   "outputs": [
    {
     "name": "stdout",
     "output_type": "stream",
     "text": [
      "a= 76\n",
      "b= 31\n",
      "Modulo = 14\n"
     ]
    }
   ],
   "source": [
    "# Modulo\n",
    "a = 76\n",
    "b = 31\n",
    "print('a=', a)\n",
    "print('b=', b)\n",
    "print('Modulo =', a % b)"
   ]
  },
  {
   "cell_type": "code",
   "execution_count": 27,
   "id": "9fb73e41-4618-44d5-aa96-0f3ba63fd869",
   "metadata": {},
   "outputs": [
    {
     "name": "stdout",
     "output_type": "stream",
     "text": [
      "a= 4\n",
      "b= 4\n",
      "Power = 256\n"
     ]
    }
   ],
   "source": [
    "# Power - Method 1\n",
    "a = 4\n",
    "b = 4\n",
    "print('a=', a)\n",
    "print('b=', b)\n",
    "print('Power =', a ** b)"
   ]
  },
  {
   "cell_type": "code",
   "execution_count": 33,
   "id": "43049fd8-d0c2-480c-8bce-1d369d545396",
   "metadata": {},
   "outputs": [
    {
     "name": "stdout",
     "output_type": "stream",
     "text": [
      "a= 4\n",
      "b= 4\n",
      "Power = 256\n"
     ]
    }
   ],
   "source": [
    "# Power - Method 2 \n",
    "# using inbuild pow(base, exp) method\n",
    "a = 4\n",
    "b = 4\n",
    "print('a=', a)\n",
    "print('b=', b)\n",
    "print('Power =', pow(a, b))"
   ]
  },
  {
   "cell_type": "code",
   "execution_count": 34,
   "id": "3b748f1c-e459-48da-b97d-ffc1b62e3b29",
   "metadata": {},
   "outputs": [
    {
     "name": "stdout",
     "output_type": "stream",
     "text": [
      "a= 4\n",
      "b= 3\n",
      "c= 5\n",
      "pow() with modulo = 4\n"
     ]
    }
   ],
   "source": [
    "# pow() - with modulo\n",
    "# using inbuild pow(base, exp, modulo by) method\n",
    "a = 4\n",
    "b = 3\n",
    "c = 5\n",
    "print('a=', a)\n",
    "print('b=', b)\n",
    "print('c=', c)\n",
    "print('pow() with modulo =', pow(a, b, c))"
   ]
  },
  {
   "cell_type": "code",
   "execution_count": null,
   "id": "1d1fc909-06a2-417b-abd8-2df9f2628d83",
   "metadata": {},
   "outputs": [],
   "source": []
  }
 ],
 "metadata": {
  "kernelspec": {
   "display_name": "Python [conda env:base] *",
   "language": "python",
   "name": "conda-base-py"
  },
  "language_info": {
   "codemirror_mode": {
    "name": "ipython",
    "version": 3
   },
   "file_extension": ".py",
   "mimetype": "text/x-python",
   "name": "python",
   "nbconvert_exporter": "python",
   "pygments_lexer": "ipython3",
   "version": "3.13.5"
  }
 },
 "nbformat": 4,
 "nbformat_minor": 5
}

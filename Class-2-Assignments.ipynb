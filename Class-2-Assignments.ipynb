{
 "cells": [
  {
   "cell_type": "code",
   "execution_count": 4,
   "id": "14ca9cf7-731f-4d32-98d5-e6864129fe79",
   "metadata": {},
   "outputs": [],
   "source": [
    "# from filename import classname\n",
    "from VariousFunctions import myFunctions"
   ]
  },
  {
   "cell_type": "code",
   "execution_count": 5,
   "id": "ac1bb9ae-23b2-4796-9611-0ddd6009de1a",
   "metadata": {},
   "outputs": [
    {
     "name": "stdout",
     "output_type": "stream",
     "text": [
      "Sub-fields in AI are:\n",
      "Machine Learning\n",
      "Neural Networks\n",
      "Vision\n",
      "Robotics\n",
      "Speech Processing\n",
      "Natural Language Processing\n"
     ]
    }
   ],
   "source": [
    "myFunctions.Subfields()"
   ]
  },
  {
   "cell_type": "code",
   "execution_count": 6,
   "id": "ca2dbbd2-2364-49bc-a784-d84ce4dbcc20",
   "metadata": {},
   "outputs": [
    {
     "name": "stdin",
     "output_type": "stream",
     "text": [
      "Enter a number: 2\n"
     ]
    },
    {
     "name": "stdout",
     "output_type": "stream",
     "text": [
      "2 is Even Number\n"
     ]
    }
   ],
   "source": [
    "myFunctions.oddEven()"
   ]
  },
  {
   "cell_type": "code",
   "execution_count": 7,
   "id": "4a264e6b-c96c-4f5c-9b5b-69a11f5536b5",
   "metadata": {},
   "outputs": [
    {
     "name": "stdin",
     "output_type": "stream",
     "text": [
      "Enter a number: 1\n"
     ]
    },
    {
     "name": "stdout",
     "output_type": "stream",
     "text": [
      "1 is Odd Number\n"
     ]
    }
   ],
   "source": [
    "myFunctions.oddEven()"
   ]
  },
  {
   "cell_type": "code",
   "execution_count": 8,
   "id": "1de81855-cabc-4161-ae69-320fcaba6556",
   "metadata": {},
   "outputs": [
    {
     "name": "stdin",
     "output_type": "stream",
     "text": [
      "Your Gender: male\n",
      "Your Age: 13\n"
     ]
    },
    {
     "name": "stdout",
     "output_type": "stream",
     "text": [
      "For male, Your age is 13 and you're not eligible\n"
     ]
    }
   ],
   "source": [
    "gender = input('Your Gender:')\n",
    "age = int(input('Your Age:'))\n",
    "elegibility = myFunctions.marriageEligibility(gender, age)\n",
    "print(elegibility)"
   ]
  },
  {
   "cell_type": "code",
   "execution_count": 10,
   "id": "6bab7aea-61aa-4405-8d23-b5da741bb39a",
   "metadata": {},
   "outputs": [
    {
     "name": "stdin",
     "output_type": "stream",
     "text": [
      "Your Gender: female\n",
      "Your Age: 22\n"
     ]
    },
    {
     "name": "stdout",
     "output_type": "stream",
     "text": [
      "For female, Your age is 22 and you're eligible\n"
     ]
    }
   ],
   "source": [
    "gender = input('Your Gender:')\n",
    "age = int(input('Your Age:'))\n",
    "elegibility = myFunctions.marriageEligibility(gender, age)\n",
    "print(elegibility)"
   ]
  },
  {
   "cell_type": "code",
   "execution_count": 11,
   "id": "a6eab4e7-cfa7-4410-a54a-2974aa4527ea",
   "metadata": {},
   "outputs": [
    {
     "name": "stdout",
     "output_type": "stream",
     "text": [
      "Subject1= 98\n",
      "Subject2= 87\n",
      "Subject3= 95\n",
      "Subject4= 95\n",
      "Subject5= 93\n",
      "Percenage : 93.60\n"
     ]
    }
   ],
   "source": [
    "marks = [98, 87, 95, 95, 93]\n",
    "myFunctions.percentage(marks, 500)"
   ]
  },
  {
   "cell_type": "code",
   "execution_count": 12,
   "id": "5d8bca31-2e89-409d-986b-43cbfcd59fa7",
   "metadata": {},
   "outputs": [
    {
     "name": "stdin",
     "output_type": "stream",
     "text": [
      "Enter Height: 32\n",
      "Enter Base: 34\n"
     ]
    },
    {
     "name": "stdout",
     "output_type": "stream",
     "text": [
      "Area Formula: (height * base)/2\n",
      "Area of Triangle:  544.0\n"
     ]
    }
   ],
   "source": [
    "height = int(input('Enter Height:'))\n",
    "base = int(input('Enter Base:'))\n",
    "area = myFunctions.area(height, base)\n",
    "print('Area Formula: (height * base)/2')\n",
    "print('Area of Triangle: ', area)"
   ]
  },
  {
   "cell_type": "code",
   "execution_count": 13,
   "id": "388318f9-3ee6-479c-b997-86b91a66ef6d",
   "metadata": {},
   "outputs": [
    {
     "name": "stdin",
     "output_type": "stream",
     "text": [
      "Enter Side1: 2\n",
      "Enter Side2: 4\n",
      "Enter Side3: 4\n"
     ]
    },
    {
     "name": "stdout",
     "output_type": "stream",
     "text": [
      "Perimeter Formula: side1+side2+side3\n",
      "Perimeter of Triangle:  10\n"
     ]
    }
   ],
   "source": [
    "# perimeter of triangle\n",
    "side1 = int(input('Enter Side1:'))\n",
    "side2 = int(input('Enter Side2:'))\n",
    "side3 = int(input('Enter Side3:'))\n",
    "perimeter = myFunctions.perimeter(side1, side2, side3)\n",
    "print('Perimeter Formula: side1+side2+side3')\n",
    "print('Perimeter of Triangle: ', perimeter)"
   ]
  },
  {
   "cell_type": "code",
   "execution_count": null,
   "id": "0955d972-1730-480c-aa36-7a3f7c644bba",
   "metadata": {},
   "outputs": [],
   "source": []
  }
 ],
 "metadata": {
  "kernelspec": {
   "display_name": "Python [conda env:base] *",
   "language": "python",
   "name": "conda-base-py"
  },
  "language_info": {
   "codemirror_mode": {
    "name": "ipython",
    "version": 3
   },
   "file_extension": ".py",
   "mimetype": "text/x-python",
   "name": "python",
   "nbconvert_exporter": "python",
   "pygments_lexer": "ipython3",
   "version": "3.13.5"
  }
 },
 "nbformat": 4,
 "nbformat_minor": 5
}

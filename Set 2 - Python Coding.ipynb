{
 "cells": [
  {
   "cell_type": "code",
   "execution_count": 9,
   "id": "12527acb-24a0-47dd-83ab-c3d799d64dc0",
   "metadata": {},
   "outputs": [
    {
     "name": "stdin",
     "output_type": "stream",
     "text": [
      "Enter the String: hello\n"
     ]
    },
    {
     "name": "stdout",
     "output_type": "stream",
     "text": [
      "The reversed output of given word: olleh\n"
     ]
    }
   ],
   "source": [
    "'''\n",
    "1.Write a Python program to find the reverse of a string. \n",
    "Expected Output (for input \"hello\"): olleh\n",
    "'''\n",
    "word = input('Enter the String:').replace(' ', '')\n",
    "print('The reversed output of given word:', word[::-1])"
   ]
  },
  {
   "cell_type": "code",
   "execution_count": 83,
   "id": "1b1997d2-62bf-4361-81fb-a9d3e9fdbe16",
   "metadata": {},
   "outputs": [
    {
     "name": "stdin",
     "output_type": "stream",
     "text": [
      "Enter the number: 10\n"
     ]
    },
    {
     "name": "stdout",
     "output_type": "stream",
     "text": [
      "The fibonacci series of 10 is [0, 1, 1, 2, 3, 5, 8, 13, 21, 34]\n",
      "0 1 1 2 3 5 8 13 21 34 "
     ]
    }
   ],
   "source": [
    "'''\n",
    "2.Write a Python program to generate the Fibonacci sequence up to 10 terms.\n",
    "Expected Output:\n",
    "0 1 1 2 3 5 8 13 21 34\n",
    "'''\n",
    "def fibonacci(n, outType):\n",
    "    output = []\n",
    "    if n <= 0:\n",
    "        output = [0]\n",
    "    elif n == 1:\n",
    "        output = [1]\n",
    "    elif n == 2:\n",
    "        output = [0, 1]\n",
    "    else:\n",
    "        fibo=[0,1]\n",
    "        for i in range(2, n):\n",
    "            fibo.append(fibo[i-1] + fibo[i-2])\n",
    "        output = fibo\n",
    "\n",
    "    if(outType == 'space'):\n",
    "        for i in output:\n",
    "            print(i, end=' ')\n",
    "    elif(outType == 'list'):\n",
    "        return output\n",
    "\n",
    "num = int(input('Enter the number:'))\n",
    "\n",
    "# Method 1\n",
    "print(f\"The fibonacci series of {num} is\", fibonacci(num, 'list'))\n",
    "\n",
    "# Method 2\n",
    "fibonacci(num, 'space')"
   ]
  },
  {
   "cell_type": "code",
   "execution_count": 33,
   "id": "be112de9-1bfd-495e-bab8-41c0539e4eac",
   "metadata": {},
   "outputs": [
    {
     "name": "stdin",
     "output_type": "stream",
     "text": [
      "Enter the word: Madam\n"
     ]
    },
    {
     "name": "stdout",
     "output_type": "stream",
     "text": [
      "The entered word 'madam' is a Palindrome\n"
     ]
    }
   ],
   "source": [
    "'''\n",
    "3.Write a Python function to check if a given string is a palindrome.\n",
    "Expected Output (for input \"madam\"):\n",
    "madam is a palindrome\n",
    "'''\n",
    "def palindrome(word):\n",
    "    word = word.lower()\n",
    "    new_word = word[::-1]\n",
    "    if(word == new_word):\n",
    "        print(f\"The entered word '{word}' is a Palindrome\")\n",
    "    else:\n",
    "        print(f\"The entered word '{word}' is not a Palindrome\")\n",
    "\n",
    "word = input('Enter the word:')\n",
    "palindrome(word)"
   ]
  },
  {
   "cell_type": "code",
   "execution_count": 84,
   "id": "0b70708e-eebd-410c-8e5e-f04e40dee6a7",
   "metadata": {},
   "outputs": [
    {
     "name": "stdin",
     "output_type": "stream",
     "text": [
      "Enter the word: education\n"
     ]
    },
    {
     "name": "stdout",
     "output_type": "stream",
     "text": [
      "Number of Vowels: 5\n"
     ]
    }
   ],
   "source": [
    "'''\n",
    "4.Write a Python program to count the number of vowels in a given string. \n",
    "Expected Output (for input \"education\"):\n",
    "Number of vowels: 5\n",
    "'''\n",
    "from collections import Counter\n",
    "\n",
    "def count_of_vowels(word):\n",
    "    vowels = ['a', 'e', 'i', 'o', 'u']\n",
    "    counts = Counter(word)\n",
    "    total = 0\n",
    "    \n",
    "    # using method 1\n",
    "    # for i in vowels:\n",
    "    #     total += counts[i]\n",
    "\n",
    "    # using method 2 - single liner\n",
    "    total = sum(counts[i] for i in vowels)\n",
    "    \n",
    "    return total\n",
    "\n",
    "word = input('Enter the word:')\n",
    "print('Number of Vowels:', count_of_vowels(word))"
   ]
  },
  {
   "cell_type": "code",
   "execution_count": 71,
   "id": "dddb2e3a-f6d4-4171-a107-fc0513ed2a19",
   "metadata": {},
   "outputs": [
    {
     "name": "stdout",
     "output_type": "stream",
     "text": [
      "Method 1: After removed duplicates (changed order): [1, 2, 3, 4, 5, 6]\n",
      "Method 2: After removed duplicates (changed order): [1, 2, 3, 4, 5, 6]\n",
      "Method 3: After removed duplicates (correct order): [6, 1, 2, 4, 5, 3]\n"
     ]
    }
   ],
   "source": [
    "'''\n",
    "5.Write a Python program to remove duplicates from a list.\n",
    "Expected Output (for input [1, 2, 2, 3, 4, 4, 5]):\n",
    "[1, 2, 3, 4, 5]\n",
    "'''\n",
    "myList = [6, 6, 1, 2, 4, 5, 2, 3, 4]\n",
    "\n",
    "# Method 1 - with random order\n",
    "newList=[]\n",
    "for i in set(myList): # set() is used to remove duplicates\n",
    "    newList.append(i)\n",
    "print('Method 1: After removed duplicates (changed order):', newList)\n",
    "\n",
    "# Method 2 - with random order\n",
    "print('Method 2: After removed duplicates (changed order):', list(set(myList)))\n",
    "\n",
    "# Method 3 - with same order\n",
    "checkSet = set() # set()\n",
    "result = [] # list[]\n",
    "for item in myList:\n",
    "    if item not in checkSet:\n",
    "        checkSet.add(item)\n",
    "        result.append(item)\n",
    "\n",
    "print('Method 3: After removed duplicates (correct order):', result)"
   ]
  },
  {
   "cell_type": "code",
   "execution_count": null,
   "id": "681ba5b3-6020-4987-99f9-adb0898f5b92",
   "metadata": {},
   "outputs": [],
   "source": []
  }
 ],
 "metadata": {
  "kernelspec": {
   "display_name": "Python [conda env:base] *",
   "language": "python",
   "name": "conda-base-py"
  },
  "language_info": {
   "codemirror_mode": {
    "name": "ipython",
    "version": 3
   },
   "file_extension": ".py",
   "mimetype": "text/x-python",
   "name": "python",
   "nbconvert_exporter": "python",
   "pygments_lexer": "ipython3",
   "version": "3.13.5"
  }
 },
 "nbformat": 4,
 "nbformat_minor": 5
}

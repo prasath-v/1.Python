{
 "cells": [
  {
   "cell_type": "code",
   "execution_count": 2,
   "id": "323ce736-b560-4044-81fc-ce54f9339649",
   "metadata": {},
   "outputs": [
    {
     "name": "stdout",
     "output_type": "stream",
     "text": [
      "45\n"
     ]
    }
   ],
   "source": [
    "num1 = 10;\n",
    "num2 = 35;\n",
    "add = num1 + num2;\n",
    "print(add);"
   ]
  },
  {
   "cell_type": "code",
   "execution_count": 4,
   "id": "3647f859-9a94-48ef-8162-3313341f715f",
   "metadata": {},
   "outputs": [
    {
     "name": "stdout",
     "output_type": "stream",
     "text": [
      "The Addition of two numbers:\n",
      "The number1: 15\n",
      "The number2: 35\n",
      "The answer: 50\n"
     ]
    }
   ],
   "source": [
    "print('The Addition of two numbers:')\n",
    "num1 = 15;\n",
    "print('The number1:', num1)\n",
    "num2 = 35;\n",
    "print('The number2:', num2)\n",
    "add = num1 + num2;\n",
    "print('The answer:', add)"
   ]
  },
  {
   "cell_type": "code",
   "execution_count": 10,
   "id": "b3ffdb1b-170e-4be9-8e74-5da6cca85dc4",
   "metadata": {},
   "outputs": [
    {
     "name": "stdout",
     "output_type": "stream",
     "text": [
      "The Addition of two numbers:\n",
      "The number1: 15\n",
      "The number2: 35\n",
      "The answer: 50\n"
     ]
    }
   ],
   "source": [
    "print('The Addition of two numbers:')\n",
    "num1 = 15;\n",
    "print('The number1:', num1)\n",
    "num2 = 35;\n",
    "print('The number2:', num2)\n",
    "print('The answer:', num1 + num2)"
   ]
  },
  {
   "cell_type": "code",
   "execution_count": 15,
   "id": "ed2001aa-d8fe-4d32-b440-114df405e050",
   "metadata": {},
   "outputs": [
    {
     "name": "stdin",
     "output_type": "stream",
     "text": [
      "Enter the Number1:  22\n"
     ]
    }
   ],
   "source": [
    "num1 = int(input('Enter the Number1: '));"
   ]
  },
  {
   "cell_type": "code",
   "execution_count": 16,
   "id": "23e75cb7-80c6-4e17-a518-b62eae09eace",
   "metadata": {},
   "outputs": [
    {
     "name": "stdin",
     "output_type": "stream",
     "text": [
      "Enter the Number2:  87\n"
     ]
    }
   ],
   "source": [
    "num2 = int(input('Enter the Number2: '));"
   ]
  },
  {
   "cell_type": "code",
   "execution_count": 17,
   "id": "8a540ec9-ce8c-48af-9bd6-5a7481172144",
   "metadata": {},
   "outputs": [
    {
     "name": "stdout",
     "output_type": "stream",
     "text": [
      "109\n"
     ]
    }
   ],
   "source": [
    "add = num1 + num2;\n",
    "print(add)"
   ]
  },
  {
   "cell_type": "code",
   "execution_count": 11,
   "id": "8272ad14-bff1-4bc7-a172-2118c3ef4157",
   "metadata": {},
   "outputs": [
    {
     "name": "stdout",
     "output_type": "stream",
     "text": [
      "121\n"
     ]
    }
   ],
   "source": [
    "print(add)"
   ]
  },
  {
   "cell_type": "code",
   "execution_count": 2,
   "id": "3f881804-20c2-46f6-bc45-b97ab627e940",
   "metadata": {},
   "outputs": [
    {
     "name": "stdout",
     "output_type": "stream",
     "text": [
      "145\n"
     ]
    }
   ],
   "source": [
    "num1 = 89;\n",
    "num2 = 56;\n",
    "add = num1 + num2;\n",
    "print(add);"
   ]
  },
  {
   "cell_type": "code",
   "execution_count": 3,
   "id": "18a91772-c836-4ec5-b218-fd00c112d5cb",
   "metadata": {},
   "outputs": [
    {
     "name": "stdin",
     "output_type": "stream",
     "text": [
      "Enter the Number 1:  12\n",
      "Enter the Number 2:  48\n"
     ]
    },
    {
     "name": "stdout",
     "output_type": "stream",
     "text": [
      "60\n"
     ]
    }
   ],
   "source": [
    "num1 = int(input('Enter the Number 1: '));\n",
    "num2 = int(input('Enter the Number 2: '));\n",
    "add = num1 + num2;\n",
    "print(add);"
   ]
  },
  {
   "cell_type": "code",
   "execution_count": 5,
   "id": "a3a3e1f9-94fa-446f-a7ea-c76496745716",
   "metadata": {},
   "outputs": [
    {
     "name": "stdout",
     "output_type": "stream",
     "text": [
      "Addition of Two Numbers: \n",
      "------------------------\n"
     ]
    },
    {
     "name": "stdin",
     "output_type": "stream",
     "text": [
      "Enter the Number 1:  24\n"
     ]
    },
    {
     "name": "stdout",
     "output_type": "stream",
     "text": [
      "The Number 1 =>  24\n"
     ]
    },
    {
     "name": "stdin",
     "output_type": "stream",
     "text": [
      "Enter the Number 2:  57\n"
     ]
    },
    {
     "name": "stdout",
     "output_type": "stream",
     "text": [
      "The Number 2 =>  57\n",
      "The Addition of  24 and  57  is  81\n"
     ]
    }
   ],
   "source": [
    "print('Addition of Two Numbers: ');\n",
    "print('------------------------');\n",
    "num1 = int(input('Enter the Number 1: '));\n",
    "print('The Number 1 => ', num1);\n",
    "num2 = int(input('Enter the Number 2: '));\n",
    "print('The Number 2 => ', num2);\n",
    "add = num1 + num2;\n",
    "print('The Addition of ', num1 , 'and ', num2, ' is ', add);"
   ]
  },
  {
   "cell_type": "code",
   "execution_count": 7,
   "id": "393fd358-7ca3-46f3-b490-95917c1617f8",
   "metadata": {},
   "outputs": [
    {
     "name": "stdout",
     "output_type": "stream",
     "text": [
      "Addition of Two Numbers: \n",
      "------------------------\n"
     ]
    },
    {
     "name": "stdin",
     "output_type": "stream",
     "text": [
      "Enter the Number 1:  98\n",
      "Enter the Number 2:  59\n"
     ]
    },
    {
     "name": "stdout",
     "output_type": "stream",
     "text": [
      "The Number 1 =>  98\n",
      "The Number 2 =>  59\n",
      "The Addition of 98 and 59 is 157\n"
     ]
    }
   ],
   "source": [
    "print('Addition of Two Numbers: ');\n",
    "print('------------------------');\n",
    "num1 = int(input('Enter the Number 1: '));\n",
    "num2 = int(input('Enter the Number 2: '));\n",
    "print('The Number 1 => ', num1);\n",
    "print('The Number 2 => ', num2);\n",
    "add = num1 + num2;\n",
    "print('The Addition of', num1, 'and', num2, 'is', add);"
   ]
  },
  {
   "cell_type": "code",
   "execution_count": 10,
   "id": "6f8a5ceb-7a2c-4734-9428-3fce32262af5",
   "metadata": {},
   "outputs": [
    {
     "name": "stdout",
     "output_type": "stream",
     "text": [
      "Addition of Two Numbers: \n",
      "------------------------\n"
     ]
    },
    {
     "name": "stdin",
     "output_type": "stream",
     "text": [
      "Enter the Number 1:  45\n",
      "Enter the Number 2:  76\n"
     ]
    },
    {
     "name": "stdout",
     "output_type": "stream",
     "text": [
      "The Number 1 =>  45\n",
      "The Number 2 =>  76\n",
      "The Addition of 45 and 76 is 121\n"
     ]
    }
   ],
   "source": [
    "print('Addition of Two Numbers: ');\n",
    "print('------------------------');\n",
    "num1 = int(input('Enter the Number 1: '));\n",
    "num2 = int(input('Enter the Number 2: '));\n",
    "print('The Number 1 => ', num1);\n",
    "print('The Number 2 => ', num2);\n",
    "add = num1 + num2;\n",
    "print('The Addition of', num1, 'and', num2, 'is', add);"
   ]
  },
  {
   "cell_type": "code",
   "execution_count": 9,
   "id": "dba7db48-4f4e-482c-a3cc-67a33c0db277",
   "metadata": {},
   "outputs": [
    {
     "name": "stdout",
     "output_type": "stream",
     "text": [
      "hi there\n"
     ]
    }
   ],
   "source": [
    "print('hi there');"
   ]
  },
  {
   "cell_type": "code",
   "execution_count": null,
   "id": "b5abda94-53dc-4c9f-b56a-f4efcee01a6e",
   "metadata": {},
   "outputs": [],
   "source": []
  }
 ],
 "metadata": {
  "kernelspec": {
   "display_name": "Python [conda env:base] *",
   "language": "python",
   "name": "conda-base-py"
  },
  "language_info": {
   "codemirror_mode": {
    "name": "ipython",
    "version": 3
   },
   "file_extension": ".py",
   "mimetype": "text/x-python",
   "name": "python",
   "nbconvert_exporter": "python",
   "pygments_lexer": "ipython3",
   "version": "3.13.5"
  }
 },
 "nbformat": 4,
 "nbformat_minor": 5
}

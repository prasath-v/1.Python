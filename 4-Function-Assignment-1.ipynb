{
 "cells": [
  {
   "cell_type": "code",
   "execution_count": 7,
   "id": "852d872a-e21b-4872-926f-19fc262c3b59",
   "metadata": {},
   "outputs": [
    {
     "name": "stdout",
     "output_type": "stream",
     "text": [
      "Sub-fields in AI are:\n",
      "Machine Learning\n",
      "Neural Networks\n",
      "Vision\n",
      "Robotics\n",
      "Speech Processing\n",
      "Natural Language Processing\n"
     ]
    }
   ],
   "source": [
    "# Create a class and function, and list out the items in the list\n",
    "SubfieldsInAI = ['Machine Learning', 'Neural Networks', 'Vision', 'Robotics', 'Speech Processing', 'Natural Language Processing']\n",
    "def subFieldsFun():\n",
    "    print('Sub-fields in AI are:')\n",
    "    for field in SubfieldsInAI:\n",
    "        print(field)\n",
    "\n",
    "subFieldsFun()"
   ]
  },
  {
   "cell_type": "code",
   "execution_count": 11,
   "id": "233df9c7-9107-41ac-85fc-e5b2cada0889",
   "metadata": {},
   "outputs": [
    {
     "name": "stdin",
     "output_type": "stream",
     "text": [
      "Enter a Number: 89\n"
     ]
    },
    {
     "name": "stdout",
     "output_type": "stream",
     "text": [
      "89 is Odd Number\n"
     ]
    }
   ],
   "source": [
    "# Method 1\n",
    "def oddOrEven(num):\n",
    "    if (num%2) == 0:\n",
    "        return f\"{num} is Even Number\"\n",
    "    else:\n",
    "        return f\"{num} is Odd Number\"\n",
    "\n",
    "num = int(input('Enter a Number:'))\n",
    "output = oddOrEven(num);\n",
    "print(output)"
   ]
  },
  {
   "cell_type": "code",
   "execution_count": 13,
   "id": "364309a4-2ff4-424a-b2a8-022d006f16a2",
   "metadata": {},
   "outputs": [
    {
     "name": "stdin",
     "output_type": "stream",
     "text": [
      "Enter a Number: 0\n"
     ]
    },
    {
     "name": "stdout",
     "output_type": "stream",
     "text": [
      "0 is Even Number\n"
     ]
    }
   ],
   "source": [
    "# Method 2\n",
    "def oddOrEven(num):\n",
    "    if (num%2) == 0:\n",
    "        msg = f\"{num} is Even Number\"\n",
    "    else:\n",
    "        msg = f\"{num} is Odd Number\"\n",
    "    return msg\n",
    "    \n",
    "num = int(input('Enter a Number:'))\n",
    "print(oddOrEven(num))"
   ]
  },
  {
   "cell_type": "code",
   "execution_count": 19,
   "id": "f6521953-e338-4fdd-a27d-24d4c6ad9921",
   "metadata": {},
   "outputs": [
    {
     "name": "stdin",
     "output_type": "stream",
     "text": [
      "Enter your Age: 21\n",
      "Enter your Gender: male\n"
     ]
    },
    {
     "name": "stdout",
     "output_type": "stream",
     "text": [
      "For male, Your age is 21 and you're elegibile\n"
     ]
    }
   ],
   "source": [
    "# Create a function that tells elegibility of marriage for male and female according \n",
    "# to their age limit like 21 for male and 18 for female\n",
    "def marriageElegibility(sex, age):\n",
    "    if sex == 'male':\n",
    "        if age >= 21:\n",
    "            msg = f\"For {sex}, Your age is {age} and you're elegibile\"\n",
    "        else:\n",
    "            msg = f\"For {sex}, Your age is {age} and you're not elegibile\"\n",
    "    else:\n",
    "        if age >= 18:\n",
    "            msg = f\"For {sex}, Your age is {age} and you're elegibile\"\n",
    "        else:\n",
    "            msg = f\"For {sex}, Your age is {age} and you're not elegibile\"\n",
    "    return msg\n",
    "\n",
    "age = int(input('Enter your Age:'))\n",
    "gender = input('Enter your Gender:')\n",
    "elegibility = marriageElegibility(gender, age)\n",
    "print(elegibility)"
   ]
  },
  {
   "cell_type": "code",
   "execution_count": 23,
   "id": "0ce6da2c-4cd5-4efc-8eed-006a6acf6956",
   "metadata": {},
   "outputs": [
    {
     "name": "stdin",
     "output_type": "stream",
     "text": [
      "Marks in Subject 1: 88\n",
      "Marks in Subject 2: 97\n",
      "Marks in Subject 3: 68\n",
      "Marks in Subject 4: 99\n",
      "Marks in Subject 5: 100\n"
     ]
    },
    {
     "name": "stdout",
     "output_type": "stream",
     "text": [
      "Total: 452/500\n",
      "Your Percentage is 90.4\n"
     ]
    }
   ],
   "source": [
    "# calculate the percentage of your 10th mark\n",
    "def percentage(scored, total):\n",
    "    print(f\"Total: {scored}/{total}\")\n",
    "    msg = (scored / total) * 100\n",
    "    return f\"Your Percentage is {msg}\"\n",
    "\n",
    "sub1 = int(input('Marks in Subject 1:'))\n",
    "sub2 = int(input('Marks in Subject 2:'))\n",
    "sub3 = int(input('Marks in Subject 3:'))\n",
    "sub4 = int(input('Marks in Subject 4:'))\n",
    "sub5 = int(input('Marks in Subject 5:'))\n",
    "\n",
    "total = sub1 + sub2 + sub3 + sub4 + sub5\n",
    "print(percentage(total, 500)) "
   ]
  },
  {
   "cell_type": "code",
   "execution_count": 27,
   "id": "3cb64631-c662-4df2-b18f-170bbbed5644",
   "metadata": {},
   "outputs": [
    {
     "name": "stdin",
     "output_type": "stream",
     "text": [
      "Enter height: 2\n",
      "Enter base: 5\n",
      "Enter side 1: 3\n",
      "Enter side 2: 4\n",
      "Enter side 3: 5\n"
     ]
    },
    {
     "name": "stdout",
     "output_type": "stream",
     "text": [
      "Area of Triangle: 5.0\n",
      "Perimeter of Triangle: 12\n"
     ]
    }
   ],
   "source": [
    "# Find Area of Triangle and Perimeter of Triangle\n",
    "# The perimeter of a triangle is the total distance around the triangle, or simply the sum of the lengths of all three sides.\n",
    "def triangle():\n",
    "    height = int(input('Enter height:'))\n",
    "    base = int(input('Enter base:'))\n",
    "    side1 = int(input('Enter side 1:'))\n",
    "    side2 = int(input('Enter side 2:'))\n",
    "    side3 = int(input('Enter side 3:'))\n",
    "    \n",
    "    area = (height * base) / 2\n",
    "    print(f\"Area of Triangle: {area}\")\n",
    "\n",
    "    perimeter = side1 + side2 + side3\n",
    "    print(f\"Perimeter of Triangle: {perimeter}\")\n",
    "\n",
    "triangle()"
   ]
  },
  {
   "cell_type": "code",
   "execution_count": null,
   "id": "ef406d87-16b6-4c26-b563-50229b04e253",
   "metadata": {},
   "outputs": [],
   "source": []
  }
 ],
 "metadata": {
  "kernelspec": {
   "display_name": "Python [conda env:base] *",
   "language": "python",
   "name": "conda-base-py"
  },
  "language_info": {
   "codemirror_mode": {
    "name": "ipython",
    "version": 3
   },
   "file_extension": ".py",
   "mimetype": "text/x-python",
   "name": "python",
   "nbconvert_exporter": "python",
   "pygments_lexer": "ipython3",
   "version": "3.13.5"
  }
 },
 "nbformat": 4,
 "nbformat_minor": 5
}

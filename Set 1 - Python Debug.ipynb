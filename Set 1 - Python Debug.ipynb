{
 "cells": [
  {
   "cell_type": "code",
   "execution_count": 1,
   "id": "71981584-0142-4f97-9b96-0dd9864f2f3a",
   "metadata": {},
   "outputs": [
    {
     "name": "stdout",
     "output_type": "stream",
     "text": [
      "0\n",
      "1\n",
      "2\n",
      "3\n",
      "4\n"
     ]
    }
   ],
   "source": [
    "#1.Find the error in the following Python code:\n",
    "'''\n",
    "for i in range(5)\n",
    "    print(i)\n",
    "'''\n",
    "# output\n",
    "for i in range(5):\n",
    "    print(i)"
   ]
  },
  {
   "cell_type": "code",
   "execution_count": 20,
   "id": "2f360326-4478-414c-a16b-fb767662c593",
   "metadata": {},
   "outputs": [
    {
     "name": "stdout",
     "output_type": "stream",
     "text": [
      "15\n"
     ]
    }
   ],
   "source": [
    "#2.What will be the output of this code?\n",
    "'''\n",
    "a = 10\n",
    "b = \"5\"\n",
    "print(a + b)\n",
    "'''\n",
    "# output\n",
    "# type error - we can't add int with string type\n",
    "a = 10\n",
    "b = \"5\"\n",
    "print(a + int(b))"
   ]
  },
  {
   "cell_type": "code",
   "execution_count": 16,
   "id": "b4eabd94-76b7-43f1-ac45-d7d5832b8fd2",
   "metadata": {},
   "outputs": [
    {
     "name": "stdout",
     "output_type": "stream",
     "text": [
      "5\n"
     ]
    }
   ],
   "source": [
    "#3.What is the issue in this Python snippet?\n",
    "'''\n",
    "def add_numbers(a, b)\n",
    "    return a + b\n",
    "'''\n",
    "# output\n",
    "def add_numbers(a, b):\n",
    "    return a + b\n",
    "print(add_numbers(1, 4))"
   ]
  },
  {
   "cell_type": "code",
   "execution_count": 17,
   "id": "e2edd4e9-db98-4b0d-83e4-88f80643a191",
   "metadata": {},
   "outputs": [
    {
     "name": "stdout",
     "output_type": "stream",
     "text": [
      "4\n"
     ]
    }
   ],
   "source": [
    "#4.Identify the bug in the following Python code:\n",
    "'''\n",
    "numbers = [1, 2, 3, 4]\n",
    "print(numbers[4])\n",
    "'''\n",
    "# output\n",
    "# out of range of index - here we have max index is 3 \n",
    "numbers = [1, 2, 3, 4]\n",
    "print(numbers[3])"
   ]
  },
  {
   "cell_type": "code",
   "execution_count": 7,
   "id": "9d934820-2253-4176-bf30-335f4c3bf721",
   "metadata": {},
   "outputs": [
    {
     "name": "stdout",
     "output_type": "stream",
     "text": [
      "Hello, World!\n"
     ]
    }
   ],
   "source": [
    "#5.Find the error in the following Python code\n",
    "'''\n",
    "print \"Hello, World!\"\n",
    "'''\n",
    "# output \n",
    "print(\"Hello, World!\")"
   ]
  },
  {
   "cell_type": "code",
   "execution_count": 21,
   "id": "65d10947-9904-47dc-8456-04f270e0ee20",
   "metadata": {},
   "outputs": [
    {
     "name": "stdout",
     "output_type": "stream",
     "text": [
      "5.0\n"
     ]
    }
   ],
   "source": [
    "#6.Find the error in the following Python code:\n",
    "'''\n",
    "x = 5 / 0\n",
    "'''\n",
    "# output\n",
    "# can't execute this. Because we can't devide anything by zero.\n",
    "x = 5/1\n",
    "print(x)"
   ]
  },
  {
   "cell_type": "code",
   "execution_count": 22,
   "id": "8768bd42-c89d-4b4d-9c0b-3a297a7e54d5",
   "metadata": {},
   "outputs": [
    {
     "name": "stdout",
     "output_type": "stream",
     "text": [
      "Method 1 => Name: Alice, Age: 25\n",
      "Method 2 => Name: Alice, Age: 25\n"
     ]
    }
   ],
   "source": [
    "#7.Find the error in the following Python code:\n",
    "'''\n",
    "name = \"Alice\"\n",
    "age = 25\n",
    "print(\"Name: \" + name + \", Age: \" + age)\n",
    "'''\n",
    "# output\n",
    "# name - we didn't create a variable called 'name'\n",
    "name = \"Alice\"\n",
    "age = 25\n",
    "print(\"Method 1 => Name: \" + name + \", Age: \" + str(age))\n",
    "print(f\"Method 2 => Name: {name}, Age: {age}\")"
   ]
  },
  {
   "cell_type": "code",
   "execution_count": 23,
   "id": "4e839928-c10c-415b-95df-57dcbeebb793",
   "metadata": {},
   "outputs": [
    {
     "name": "stdout",
     "output_type": "stream",
     "text": [
      "10\n",
      "9\n",
      "8\n",
      "7\n",
      "6\n",
      "5\n",
      "4\n",
      "3\n",
      "2\n"
     ]
    }
   ],
   "source": [
    "#8.Find the error\n",
    "'''\n",
    "for i in range(1, 10, -1):\n",
    "    print(i)\n",
    "'''\n",
    "# output (i got this from ChatGPT)\n",
    "# will not print anything - since you start at 1 and want to go up to 10 with a negative step, \n",
    "# the range is empty because stepping backwards from 1 will never reach 10.\n",
    "for i in range(10, 1, -1):\n",
    "    print(i)"
   ]
  },
  {
   "cell_type": "code",
   "execution_count": 25,
   "id": "eeb67312-49ba-4cbb-b96c-d1f96b3b283a",
   "metadata": {},
   "outputs": [],
   "source": [
    "#9. Find the error in the following Python code:\n",
    "'''\n",
    "x = 10\n",
    "if x = 5:\n",
    "    print(\"x is 5\")\n",
    "'''\n",
    "# output\n",
    "# we get error - can't assign in codition\n",
    "x = 10\n",
    "if x == 5:\n",
    "    print(\"x is 5\")"
   ]
  },
  {
   "cell_type": "code",
   "execution_count": 27,
   "id": "b7ef6a46-a383-423c-b145-b7747e0f64f0",
   "metadata": {},
   "outputs": [
    {
     "name": "stdout",
     "output_type": "stream",
     "text": [
      "Hello, Prasath\n"
     ]
    }
   ],
   "source": [
    "#10. Identify the error in the following function definition:\n",
    "'''\n",
    "def greet(name)\n",
    "    print(\"Hello, \" + name)\n",
    "'''\n",
    "# output\n",
    "# : colon is missing\n",
    "def greet(name):\n",
    "    print(\"Hello, \" + name)\n",
    "greet('Prasath')"
   ]
  },
  {
   "cell_type": "code",
   "execution_count": null,
   "id": "4db93af4-3167-4992-a69c-2e2c32d6e779",
   "metadata": {},
   "outputs": [],
   "source": []
  }
 ],
 "metadata": {
  "kernelspec": {
   "display_name": "Python [conda env:base] *",
   "language": "python",
   "name": "conda-base-py"
  },
  "language_info": {
   "codemirror_mode": {
    "name": "ipython",
    "version": 3
   },
   "file_extension": ".py",
   "mimetype": "text/x-python",
   "name": "python",
   "nbconvert_exporter": "python",
   "pygments_lexer": "ipython3",
   "version": "3.13.5"
  }
 },
 "nbformat": 4,
 "nbformat_minor": 5
}

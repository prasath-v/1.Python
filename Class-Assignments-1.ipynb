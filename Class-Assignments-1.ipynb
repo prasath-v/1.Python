{
 "cells": [
  {
   "cell_type": "code",
   "execution_count": 2,
   "id": "f5fe9927-8f65-4de9-801f-5d52aeda48de",
   "metadata": {},
   "outputs": [],
   "source": [
    "# Create a class and function, and list out the items in the list\n",
    "class SubfieldsInAI():\n",
    "    def Subfields():\n",
    "        subfields = ['Machine Learning', 'Neural Networks', 'Vision', 'Robotics', 'Speech Processing', 'Natural Language Processing']\n",
    "        print('Sub-fields in AI are:')\n",
    "        for field in subfields:\n",
    "            print(field)\n",
    "        "
   ]
  },
  {
   "cell_type": "code",
   "execution_count": 3,
   "id": "4e998f9c-d5ec-4f95-9be9-c87b4bb852cf",
   "metadata": {},
   "outputs": [
    {
     "name": "stdout",
     "output_type": "stream",
     "text": [
      "Sub-fields in AI are:\n",
      "Machine Learning\n",
      "Neural Networks\n",
      "Vision\n",
      "Robotics\n",
      "Speech Processing\n",
      "Natural Language Processing\n"
     ]
    }
   ],
   "source": [
    "SubfieldsInAI.Subfields()"
   ]
  },
  {
   "cell_type": "code",
   "execution_count": 8,
   "id": "26e7f62d-2059-4e55-a2f8-ef837d5c0b95",
   "metadata": {},
   "outputs": [],
   "source": [
    "# Create a Class & function that checks whether the given number is Odd or Even\n",
    "class OddEven():\n",
    "    def oddEven():\n",
    "        num = int(input('Enter a number:'))\n",
    "        if num == 0:\n",
    "            print(f\"Given number is Zero\")\n",
    "        elif num%2 == 0:\n",
    "            print(f\"{num} is Even Number\")\n",
    "        else:\n",
    "            print(f\"{num} is Odd Number\")"
   ]
  },
  {
   "cell_type": "code",
   "execution_count": 5,
   "id": "d5fe7c16-1fbf-4b99-b2b2-a9980592ba98",
   "metadata": {},
   "outputs": [
    {
     "name": "stdin",
     "output_type": "stream",
     "text": [
      "Enter a number: 32\n"
     ]
    },
    {
     "name": "stdout",
     "output_type": "stream",
     "text": [
      "32 is Even Number\n"
     ]
    }
   ],
   "source": [
    "OddEven.oddEven()"
   ]
  },
  {
   "cell_type": "code",
   "execution_count": 6,
   "id": "c57aed99-7f2a-4627-89b1-b66205f46e33",
   "metadata": {},
   "outputs": [
    {
     "name": "stdin",
     "output_type": "stream",
     "text": [
      "Enter a number: 21\n"
     ]
    },
    {
     "name": "stdout",
     "output_type": "stream",
     "text": [
      "21 is Odd Number\n"
     ]
    }
   ],
   "source": [
    "OddEven.oddEven()"
   ]
  },
  {
   "cell_type": "code",
   "execution_count": 9,
   "id": "aded1e34-8c4d-4224-9b49-275f2cba6b11",
   "metadata": {},
   "outputs": [
    {
     "name": "stdin",
     "output_type": "stream",
     "text": [
      "Enter a number: 0\n"
     ]
    },
    {
     "name": "stdout",
     "output_type": "stream",
     "text": [
      "Given number is Zero\n"
     ]
    }
   ],
   "source": [
    "OddEven.oddEven()"
   ]
  },
  {
   "cell_type": "code",
   "execution_count": 18,
   "id": "33a78237-9c04-4b9f-9177-45400d22230f",
   "metadata": {},
   "outputs": [],
   "source": [
    "# Create a function that tells elegibility of marriage for male and female according \n",
    "# to their age limit like 21 for male and 18 for female\n",
    "class ElegiblityForMarriage():\n",
    "    def Elegible(gender, age):\n",
    "        if(gender == 'male'):\n",
    "            msg = f\"For {gender}, Your age is {age} and you're not eligible\" if(age<21) else f\"For {gender}, Your age is {age} and you're eligible\"\n",
    "        else:\n",
    "            msg = f\"For {gender}, Your age is {age} and you're not eligible\" if(age<18) else f\"For {gender}, Your age is {age} and you're eligible\"\n",
    "        return msg\n",
    "\n",
    "    def Elegible2(gender, age):\n",
    "        gender = gender.lower()\n",
    "        if(gender.lower() == 'male'):\n",
    "            msg = 'not eligible' if(age<21) else 'eligible'\n",
    "        else:\n",
    "            msg = 'not eligible' if(age<18) else 'eligible'\n",
    "\n",
    "        status = f\"For {gender}, Your age is {age} and you're {msg}\"\n",
    "        return status"
   ]
  },
  {
   "cell_type": "code",
   "execution_count": 11,
   "id": "74432451-a3ef-417e-bb93-dda89ee50b2c",
   "metadata": {},
   "outputs": [
    {
     "name": "stdin",
     "output_type": "stream",
     "text": [
      "Your Gender: male\n",
      "Your Age: 12\n"
     ]
    },
    {
     "name": "stdout",
     "output_type": "stream",
     "text": [
      "For male, Your age is 12 and you're not eligible\n"
     ]
    }
   ],
   "source": [
    "gender = input('Your Gender:')\n",
    "age = int(input('Your Age:'))\n",
    "elegibility = ElegiblityForMarriage.Elegible(gender, age)\n",
    "print(elegibility)"
   ]
  },
  {
   "cell_type": "code",
   "execution_count": 12,
   "id": "2b29e426-b76f-4f50-9517-40639bced0c2",
   "metadata": {},
   "outputs": [
    {
     "name": "stdin",
     "output_type": "stream",
     "text": [
      "Your Gender: female\n",
      "Your Age: 10\n"
     ]
    },
    {
     "name": "stdout",
     "output_type": "stream",
     "text": [
      "For female, Your age is 10 and you're not eligible\n"
     ]
    }
   ],
   "source": [
    "gender = input('Your Gender:')\n",
    "age = int(input('Your Age:'))\n",
    "elegibility = ElegiblityForMarriage.Elegible(gender, age)\n",
    "print(elegibility)"
   ]
  },
  {
   "cell_type": "code",
   "execution_count": 19,
   "id": "9f16dcf8-17f8-4374-9b9c-a0bd7c89b5aa",
   "metadata": {},
   "outputs": [
    {
     "name": "stdin",
     "output_type": "stream",
     "text": [
      "Your Gender: male\n",
      "Your Age: 20\n"
     ]
    },
    {
     "name": "stdout",
     "output_type": "stream",
     "text": [
      "For male, Your age is 20 and you're not eligible\n"
     ]
    }
   ],
   "source": [
    "gender = input('Your Gender:')\n",
    "age = int(input('Your Age:'))\n",
    "elegibility = ElegiblityForMarriage.Elegible2(gender, age)\n",
    "print(elegibility)"
   ]
  },
  {
   "cell_type": "code",
   "execution_count": 20,
   "id": "5a7833f0-c6f2-42aa-8765-842423269390",
   "metadata": {},
   "outputs": [
    {
     "name": "stdin",
     "output_type": "stream",
     "text": [
      "Your Gender: female\n",
      "Your Age: 21\n"
     ]
    },
    {
     "name": "stdout",
     "output_type": "stream",
     "text": [
      "For female, Your age is 21 and you're eligible\n"
     ]
    }
   ],
   "source": [
    "gender = input('Your Gender:')\n",
    "age = int(input('Your Age:'))\n",
    "elegibility = ElegiblityForMarriage.Elegible2(gender, age)\n",
    "print(elegibility)"
   ]
  },
  {
   "cell_type": "code",
   "execution_count": 31,
   "id": "4fc3e797-5098-475f-acf4-4f8e65fb0b3c",
   "metadata": {},
   "outputs": [],
   "source": [
    "# calculate the percentage of your 10th mark\n",
    "class FindPercent():\n",
    "    def percentage(marks, total):\n",
    "        scored = 0\n",
    "        for i, mark in enumerate(marks):\n",
    "            print(f\"Subject{i+1}= {mark}\")\n",
    "            scored += mark\n",
    "        percentage = (scored/total)*100\n",
    "        print(f\"Percenage : {percentage:.2f}\")\n",
    "\n",
    "    def percentage2(marks, total):\n",
    "        scored = 0\n",
    "        for i, mark in enumerate(marks, start=1): # By default, enumerate() starts at 0, but we can change that by passing a start value\n",
    "            print(f\"Subject{i}= {mark}\")\n",
    "            scored += mark\n",
    "        percentage = (scored/total)*100\n",
    "        print(f\"Percenage : {percentage:.2f}\")"
   ]
  },
  {
   "cell_type": "code",
   "execution_count": 30,
   "id": "a8f6d644-ba48-40f3-8079-79afcc995549",
   "metadata": {},
   "outputs": [
    {
     "name": "stdout",
     "output_type": "stream",
     "text": [
      "Subject1= 98\n",
      "Subject2= 87\n",
      "Subject3= 95\n",
      "Subject4= 95\n",
      "Subject5= 93\n",
      "Percenage : 93.60\n"
     ]
    }
   ],
   "source": [
    "marks = [98, 87, 95, 95, 93]\n",
    "FindPercent.percentage(marks, 500)"
   ]
  },
  {
   "cell_type": "code",
   "execution_count": 32,
   "id": "1ebf71c5-5776-4b47-89c4-f48154600428",
   "metadata": {},
   "outputs": [
    {
     "name": "stdout",
     "output_type": "stream",
     "text": [
      "Subject1= 98\n",
      "Subject2= 87\n",
      "Subject3= 95\n",
      "Subject4= 95\n",
      "Subject5= 93\n",
      "Percenage : 93.60\n"
     ]
    }
   ],
   "source": [
    "marks = [98, 87, 95, 95, 93]\n",
    "FindPercent.percentage2(marks, 500)"
   ]
  },
  {
   "cell_type": "code",
   "execution_count": 33,
   "id": "756e3ac8-15cc-4474-a257-46b240a40426",
   "metadata": {},
   "outputs": [],
   "source": [
    "#print area and perimeter of triangle using class and functions\n",
    "class triangle():\n",
    "    def area(height, base):\n",
    "        return (height*base)/2\n",
    "    def perimeter(side1, side2, side3):\n",
    "        return side1+side2+side3"
   ]
  },
  {
   "cell_type": "code",
   "execution_count": 34,
   "id": "b3e9a3c2-fbc8-4cce-a670-fec317000385",
   "metadata": {},
   "outputs": [
    {
     "name": "stdin",
     "output_type": "stream",
     "text": [
      "Enter Height: 32\n",
      "Enter Base: 34\n"
     ]
    },
    {
     "name": "stdout",
     "output_type": "stream",
     "text": [
      "Area Formula: (height * base)/2\n",
      "Area of Triangle:  544.0\n"
     ]
    }
   ],
   "source": [
    "height = int(input('Enter Height:'))\n",
    "base = int(input('Enter Base:'))\n",
    "area = triangle.area(height, base)\n",
    "print('Area Formula: (height * base)/2')\n",
    "print('Area of Triangle: ', area)"
   ]
  },
  {
   "cell_type": "code",
   "execution_count": 36,
   "id": "fce82403-c128-41f1-9885-1a5dd365d847",
   "metadata": {},
   "outputs": [
    {
     "name": "stdin",
     "output_type": "stream",
     "text": [
      "Enter Side1: 2\n",
      "Enter Side2: 4\n",
      "Enter Side3: 4\n"
     ]
    },
    {
     "name": "stdout",
     "output_type": "stream",
     "text": [
      "Perimeter Formula: side1+side2+side3\n",
      "Perimeter of Triangle:  10\n"
     ]
    }
   ],
   "source": [
    "# perimeter of triangle\n",
    "side1 = int(input('Enter Side1:'))\n",
    "side2 = int(input('Enter Side2:'))\n",
    "side3 = int(input('Enter Side3:'))\n",
    "perimeter = triangle.perimeter(side1, side2, side3)\n",
    "print('Perimeter Formula: side1+side2+side3')\n",
    "print('Perimeter of Triangle: ', perimeter)"
   ]
  },
  {
   "cell_type": "code",
   "execution_count": null,
   "id": "334c8274-9114-4b3e-9b5c-0c610157ce45",
   "metadata": {},
   "outputs": [],
   "source": []
  }
 ],
 "metadata": {
  "kernelspec": {
   "display_name": "Python [conda env:base] *",
   "language": "python",
   "name": "conda-base-py"
  },
  "language_info": {
   "codemirror_mode": {
    "name": "ipython",
    "version": 3
   },
   "file_extension": ".py",
   "mimetype": "text/x-python",
   "name": "python",
   "nbconvert_exporter": "python",
   "pygments_lexer": "ipython3",
   "version": "3.13.5"
  }
 },
 "nbformat": 4,
 "nbformat_minor": 5
}

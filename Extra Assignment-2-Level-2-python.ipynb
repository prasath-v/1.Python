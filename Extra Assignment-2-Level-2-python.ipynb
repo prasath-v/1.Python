{
 "cells": [
  {
   "cell_type": "code",
   "execution_count": 1,
   "id": "7562b881-4aab-4b73-842a-62b29ada4ebb",
   "metadata": {},
   "outputs": [
    {
     "name": "stdout",
     "output_type": "stream",
     "text": [
      "0\n",
      "1\n",
      "2\n",
      "3\n",
      "4\n",
      "5\n",
      "6\n",
      "7\n",
      "8\n",
      "9\n",
      "10\n",
      "11\n",
      "12\n",
      "13\n",
      "14\n",
      "15\n",
      "16\n",
      "17\n",
      "18\n",
      "19\n"
     ]
    }
   ],
   "source": [
    "for i in range(0, 20):\n",
    "    print(i)"
   ]
  },
  {
   "cell_type": "code",
   "execution_count": 4,
   "id": "2f22ec7d-090e-48e5-b7a0-1d394277bf39",
   "metadata": {},
   "outputs": [],
   "source": [
    "# The * operator unpacks the range so that it prints the numbers in a sequence separated by spaces."
   ]
  },
  {
   "cell_type": "code",
   "execution_count": 2,
   "id": "214acfa5-c016-47d9-be53-5ae96e713298",
   "metadata": {},
   "outputs": [
    {
     "name": "stdout",
     "output_type": "stream",
     "text": [
      "10 11 12 13 14 15 16 17 18 19\n"
     ]
    }
   ],
   "source": [
    "print(*range(10, 20))"
   ]
  },
  {
   "cell_type": "code",
   "execution_count": 11,
   "id": "88d2bb87-f76a-4398-badf-779465f47183",
   "metadata": {},
   "outputs": [],
   "source": [
    "# len() is a built-in Python function that returns the number of elements"
   ]
  },
  {
   "cell_type": "code",
   "execution_count": 10,
   "id": "d942c4bc-8ee2-4509-9d6c-d1785bd9b2ae",
   "metadata": {},
   "outputs": [
    {
     "name": "stdout",
     "output_type": "stream",
     "text": [
      "Number of items in the List2:  7\n"
     ]
    }
   ],
   "source": [
    "lists = [10, 20, 14, 55, 43, 87, 76]\n",
    "print('Number of items in the List2: ', len(lists))"
   ]
  },
  {
   "cell_type": "code",
   "execution_count": 12,
   "id": "ef9f2e1f-500e-4643-993f-d8949cb44db0",
   "metadata": {},
   "outputs": [
    {
     "name": "stdout",
     "output_type": "stream",
     "text": [
      "A\n",
      "r\n",
      "t\n",
      "i\n",
      "f\n",
      "i\n",
      "c\n",
      "i\n",
      "a\n",
      "l\n",
      " \n",
      "I\n",
      "n\n",
      "t\n",
      "e\n",
      "l\n",
      "l\n",
      "i\n",
      "g\n",
      "e\n",
      "n\n",
      "c\n",
      "e\n"
     ]
    }
   ],
   "source": [
    "text = 'Artificial Intelligence'\n",
    "for char in text:\n",
    "    print(char)"
   ]
  },
  {
   "cell_type": "code",
   "execution_count": 13,
   "id": "36eccab2-b995-4f3a-9de1-719146a76cd7",
   "metadata": {},
   "outputs": [
    {
     "name": "stdout",
     "output_type": "stream",
     "text": [
      "A\n",
      "R\n",
      "T\n",
      "I\n",
      "F\n",
      "I\n",
      "C\n",
      "I\n",
      "A\n",
      "L\n",
      " \n",
      "I\n",
      "N\n",
      "T\n",
      "E\n",
      "L\n",
      "L\n",
      "I\n",
      "G\n",
      "E\n",
      "N\n",
      "C\n",
      "E\n"
     ]
    }
   ],
   "source": [
    "# if want uppercase \n",
    "text = 'Artificial Intelligence'\n",
    "for char in text:\n",
    "    print(char.upper())"
   ]
  },
  {
   "cell_type": "code",
   "execution_count": 18,
   "id": "b80581d6-7276-4671-9ee5-f1742239b66b",
   "metadata": {},
   "outputs": [
    {
     "name": "stdout",
     "output_type": "stream",
     "text": [
      "-Your Name- Prasath\n",
      "-Your Age- 33\n",
      "-Your Profession- Software Engineer\n"
     ]
    }
   ],
   "source": [
    "print('-Your Name-', 'Prasath')\n",
    "print('-Your Age-', '33')\n",
    "print('-Your Profession-', 'Software Engineer')"
   ]
  },
  {
   "cell_type": "code",
   "execution_count": 19,
   "id": "093dd0a7-7754-444e-a9ab-f2ffae96b7f8",
   "metadata": {},
   "outputs": [
    {
     "name": "stdout",
     "output_type": "stream",
     "text": [
      "-Prasath-\n",
      "-33-\n",
      "-Software Engineer-\n"
     ]
    }
   ],
   "source": [
    "print('-Prasath-')\n",
    "print('-33-')\n",
    "print('-Software Engineer-')"
   ]
  },
  {
   "cell_type": "code",
   "execution_count": 20,
   "id": "aa95b903-0566-44ae-9666-7bb8dd304338",
   "metadata": {},
   "outputs": [
    {
     "name": "stdout",
     "output_type": "stream",
     "text": [
      "(1, 'Welcome', 2, 'Hope')\n"
     ]
    }
   ],
   "source": [
    "# Tuples\n",
    "tuples = (1, 'Welcome', 2, 'Hope')\n",
    "print(tuples)"
   ]
  },
  {
   "cell_type": "code",
   "execution_count": 22,
   "id": "f59fbd87-0204-4ec2-9e7c-10ca2aabb0e7",
   "metadata": {},
   "outputs": [
    {
     "name": "stdout",
     "output_type": "stream",
     "text": [
      "((0, 1, 2, 3), ('Python', 'HOPE'))\n"
     ]
    }
   ],
   "source": [
    "# merge two Tuples\n",
    "tuple1 = (0, 1, 2, 3)\n",
    "tuple2 = ('Python', 'HOPE')\n",
    "tupleOutput = (tuple1, tuple2)\n",
    "print(tupleOutput)"
   ]
  },
  {
   "cell_type": "code",
   "execution_count": 25,
   "id": "8ae2bc9a-d852-4e4e-8d6b-b70c16071fa6",
   "metadata": {},
   "outputs": [
    {
     "name": "stdout",
     "output_type": "stream",
     "text": [
      "19 is Odd Number\n",
      "25 is Odd Number\n",
      "1 is Odd Number\n"
     ]
    }
   ],
   "source": [
    "# print ODD numbers in the list\n",
    "tup = (20,10,16,19,25,1,276,188)\n",
    "for num in tup:\n",
    "    if((num%2) == 1):\n",
    "        print(num, 'is Odd Number')"
   ]
  },
  {
   "cell_type": "code",
   "execution_count": 27,
   "id": "2328101d-3431-4729-9f13-1d524eaba0f9",
   "metadata": {},
   "outputs": [
    {
     "name": "stdout",
     "output_type": "stream",
     "text": [
      "20 is Even Number\n",
      "10 is Even Number\n",
      "16 is Even Number\n",
      "276 is Even Number\n",
      "188 is Even Number\n"
     ]
    }
   ],
   "source": [
    "# print ODD numbers in the list\n",
    "tup = (20,10,16,19,25,1,276,188)\n",
    "for num in tup:\n",
    "    if((num%2) == 0):\n",
    "        print(num, 'is Even Number')"
   ]
  },
  {
   "cell_type": "code",
   "execution_count": 30,
   "id": "f600062b-9464-4993-8d22-e32aedffc18c",
   "metadata": {},
   "outputs": [
    {
     "name": "stdout",
     "output_type": "stream",
     "text": [
      "20 is Even Number\n",
      "10 is Even Number\n",
      "16 is Even Number\n",
      "19 is Odd Number\n",
      "25 is Odd Number\n",
      "1 is Odd Number\n",
      "276 is Even Number\n",
      "188 is Even Number\n"
     ]
    }
   ],
   "source": [
    "# print ODD or Even numbers in the list\n",
    "tup = (20,10,16,19,25,1,276,188)\n",
    "for num in tup:\n",
    "    if((num%2) == 1):\n",
    "        print(num, 'is Odd Number')\n",
    "    else:\n",
    "        print(num, 'is Even Number')"
   ]
  },
  {
   "cell_type": "code",
   "execution_count": null,
   "id": "30a23b9e-952f-4f74-94db-96a00cb56b76",
   "metadata": {},
   "outputs": [],
   "source": []
  }
 ],
 "metadata": {
  "kernelspec": {
   "display_name": "Python [conda env:base] *",
   "language": "python",
   "name": "conda-base-py"
  },
  "language_info": {
   "codemirror_mode": {
    "name": "ipython",
    "version": 3
   },
   "file_extension": ".py",
   "mimetype": "text/x-python",
   "name": "python",
   "nbconvert_exporter": "python",
   "pygments_lexer": "ipython3",
   "version": "3.13.5"
  }
 },
 "nbformat": 4,
 "nbformat_minor": 5
}

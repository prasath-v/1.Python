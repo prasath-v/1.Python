{
 "cells": [
  {
   "cell_type": "code",
   "execution_count": 1,
   "id": "71981584-0142-4f97-9b96-0dd9864f2f3a",
   "metadata": {},
   "outputs": [
    {
     "name": "stdout",
     "output_type": "stream",
     "text": [
      "4.0\n"
     ]
    }
   ],
   "source": [
    "#1.Find the error in the following Python code:\n",
    "'''\n",
    "import math\n",
    "print(Math.sqrt(16))\n",
    "'''\n",
    "# output\n",
    "import math\n",
    "print(math.sqrt(16))"
   ]
  },
  {
   "cell_type": "code",
   "execution_count": 4,
   "id": "2f360326-4478-414c-a16b-fb767662c593",
   "metadata": {},
   "outputs": [
    {
     "name": "stdout",
     "output_type": "stream",
     "text": [
      "15\n"
     ]
    }
   ],
   "source": [
    "#2.Find the error in the following Python code:\n",
    "'''\n",
    "def my_function():\n",
    "    x += 5\n",
    "    print(x)\n",
    "\n",
    "x = 10\n",
    "my_function()\n",
    "'''\n",
    "# output\n",
    "def my_function(x):\n",
    "    x += 5\n",
    "    print(x)\n",
    "\n",
    "x = 10\n",
    "my_function(x)"
   ]
  },
  {
   "cell_type": "code",
   "execution_count": 29,
   "id": "b4eabd94-76b7-43f1-ac45-d7d5832b8fd2",
   "metadata": {},
   "outputs": [],
   "source": [
    "#3.\n",
    "'''\n",
    "x = 5\n",
    "if x = 10:\n",
    "    print(\"x is 10\")\n",
    "'''\n",
    "# output\n",
    "x = 5\n",
    "if x == 10:\n",
    "    print(\"x is 10\")"
   ]
  },
  {
   "cell_type": "code",
   "execution_count": 7,
   "id": "e2edd4e9-db98-4b0d-83e4-88f80643a191",
   "metadata": {},
   "outputs": [
    {
     "name": "stdout",
     "output_type": "stream",
     "text": [
      "[2, 3, 5, 8]\n"
     ]
    }
   ],
   "source": [
    "#4.Identify the bug in the following Python code:\n",
    "'''\n",
    "numbers = [5, 3, 8, 2]\n",
    "print(numbers.sort())\n",
    "'''\n",
    "# output\n",
    "numbers = [5, 3, 8, 2]\n",
    "numbers.sort()\n",
    "print(numbers)"
   ]
  },
  {
   "cell_type": "code",
   "execution_count": 11,
   "id": "9d934820-2253-4176-bf30-335f4c3bf721",
   "metadata": {},
   "outputs": [
    {
     "name": "stdout",
     "output_type": "stream",
     "text": [
      "625\n"
     ]
    }
   ],
   "source": [
    "#5.Find the error in the following Python code\n",
    "'''\n",
    "def square(n):\n",
    "    n * n\n",
    "\n",
    "print(square(4))\n",
    "'''\n",
    "# output \n",
    "def square(n):\n",
    "    return n * n\n",
    "\n",
    "print(square(25))"
   ]
  },
  {
   "cell_type": "code",
   "execution_count": 14,
   "id": "65d10947-9904-47dc-8456-04f270e0ee20",
   "metadata": {},
   "outputs": [
    {
     "name": "stdout",
     "output_type": "stream",
     "text": [
      "[1, 5, 3]\n"
     ]
    }
   ],
   "source": [
    "#6.Find the error in the following Python code:\n",
    "'''\n",
    "my_tuple = (1, 2, 3)\n",
    "my_tuple[1] = 5\n",
    "'''\n",
    "# output\n",
    "# Tuples are immutable and cannot be modified\n",
    "my_list = [1, 2, 3]\n",
    "my_list[1] = 5\n",
    "print(my_list)"
   ]
  },
  {
   "cell_type": "code",
   "execution_count": 15,
   "id": "8768bd42-c89d-4b4d-9c0b-3a297a7e54d5",
   "metadata": {},
   "outputs": [
    {
     "name": "stdout",
     "output_type": "stream",
     "text": [
      "My name is Alice and I am 25 years old\n",
      "My name is Alice and I am 25 years old\n"
     ]
    }
   ],
   "source": [
    "#7.Find the error in the following Python code:\n",
    "'''\n",
    "name = \"Alice\"\n",
    "age = 25\n",
    "print(\"My name is %s and I am %d years old\" % (name))\n",
    "'''\n",
    "# output\n",
    "# name - we didn't create a variable called 'name'\n",
    "name = \"Alice\"\n",
    "age = 25\n",
    "print(\"My name is %s and I am %d years old\" % (name, age))\n",
    "print(f\"My name is {name} and I am {age} years old\")"
   ]
  },
  {
   "cell_type": "code",
   "execution_count": 20,
   "id": "4e839928-c10c-415b-95df-57dcbeebb793",
   "metadata": {},
   "outputs": [
    {
     "name": "stdout",
     "output_type": "stream",
     "text": [
      "Lists are equal\n"
     ]
    }
   ],
   "source": [
    "#8.Find the error\n",
    "'''\n",
    "a = [1, 2, 3]\n",
    "b = [1, 2, 3]\n",
    "if a is b:\n",
    "    print(\"Lists are equal\")\n",
    "'''\n",
    "# output (i got this from ChatGPT)\n",
    "a = [1, 2, 3]\n",
    "b = [1, 2, 3]\n",
    "if a == b:\n",
    "    print(\"Lists are equal\")\n",
    "else:\n",
    "    print(\"Lists aren't equal\")"
   ]
  },
  {
   "cell_type": "code",
   "execution_count": 30,
   "id": "eeb67312-49ba-4cbb-b96c-d1f96b3b283a",
   "metadata": {},
   "outputs": [
    {
     "name": "stdout",
     "output_type": "stream",
     "text": [
      "5\n",
      "4\n",
      "3\n",
      "2\n"
     ]
    }
   ],
   "source": [
    "#9. Find the error in the following Python code:\n",
    "'''\n",
    "for i in range(5, 1):\n",
    "    print(i)\n",
    "'''\n",
    "# output\n",
    "for i in range(5, 1, -1):\n",
    "    print(i)"
   ]
  },
  {
   "cell_type": "code",
   "execution_count": 28,
   "id": "b7ef6a46-a383-423c-b145-b7747e0f64f0",
   "metadata": {},
   "outputs": [
    {
     "name": "stdout",
     "output_type": "stream",
     "text": [
      "John 20\n"
     ]
    }
   ],
   "source": [
    "#10. Identify the error in the following function definition:\n",
    "'''\n",
    "student = {\"name\": \"John\", \"age\": 20}\n",
    "print(student[name])\n",
    "'''\n",
    "# output\n",
    "student = {\"name\": \"John\", \"age\": 20}\n",
    "print(student['name'], student['age'])"
   ]
  },
  {
   "cell_type": "code",
   "execution_count": null,
   "id": "4db93af4-3167-4992-a69c-2e2c32d6e779",
   "metadata": {},
   "outputs": [],
   "source": []
  }
 ],
 "metadata": {
  "kernelspec": {
   "display_name": "Python [conda env:base] *",
   "language": "python",
   "name": "conda-base-py"
  },
  "language_info": {
   "codemirror_mode": {
    "name": "ipython",
    "version": 3
   },
   "file_extension": ".py",
   "mimetype": "text/x-python",
   "name": "python",
   "nbconvert_exporter": "python",
   "pygments_lexer": "ipython3",
   "version": "3.13.5"
  }
 },
 "nbformat": 4,
 "nbformat_minor": 5
}
